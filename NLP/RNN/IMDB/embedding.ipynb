{
 "cells": [
  {
   "cell_type": "code",
   "execution_count": 2,
   "metadata": {},
   "outputs": [],
   "source": [
    "from tensorflow.keras.preprocessing.text import one_hot\n",
    "from tensorflow.keras.layers import Embedding\n",
    "from tensorflow.keras.preprocessing.sequence import pad_sequences\n",
    "from tensorflow.keras.models import Sequential\n",
    "import numpy as np"
   ]
  },
  {
   "cell_type": "code",
   "execution_count": 3,
   "metadata": {},
   "outputs": [],
   "source": [
    "sentences = [\n",
    "    \"The sun set behind the mountains, casting a warm glow over the valley.\",\n",
    "    \"She quickly realized she had left her keys inside the car.\",\n",
    "    \"The dog barked loudly, alerting the family to the stranger at the door.\",\n",
    "    \"They decided to take a road trip across the country.\",\n",
    "    \"The book was filled with fascinating stories and illustrations.\",\n",
    "    \"He took a deep breath and stepped onto the stage.\",\n",
    "    \"The rain poured down, drenching everyone caught without an umbrella.\",\n",
    "    \"The new restaurant in town quickly became a favorite spot for locals.\",\n",
    "    \"She studied hard and managed to ace all her exams.\",\n",
    "    \"The concert was an unforgettable experience for all who attended.\"\n",
    "]\n"
   ]
  },
  {
   "cell_type": "code",
   "execution_count": 4,
   "metadata": {},
   "outputs": [],
   "source": [
    "## vocabulary size\n",
    "vocab_size = 10000\n",
    "one_hot_rep = [one_hot(sentence, vocab_size) for sentence in sentences ]"
   ]
  },
  {
   "cell_type": "code",
   "execution_count": 5,
   "metadata": {},
   "outputs": [],
   "source": [
    "padded_one_hot = pad_sequences(one_hot_rep, padding='pre', maxlen=12)"
   ]
  },
  {
   "cell_type": "code",
   "execution_count": 6,
   "metadata": {},
   "outputs": [],
   "source": [
    "dim = 10\n"
   ]
  },
  {
   "cell_type": "code",
   "execution_count": 7,
   "metadata": {},
   "outputs": [],
   "source": [
    "model = Sequential([\n",
    "    Embedding(vocab_size, dim , input_length= 12)\n",
    "])"
   ]
  },
  {
   "cell_type": "code",
   "execution_count": 8,
   "metadata": {},
   "outputs": [],
   "source": [
    "model.compile(optimizer='adam', loss='mse')"
   ]
  },
  {
   "cell_type": "code",
   "execution_count": 9,
   "metadata": {},
   "outputs": [
    {
     "name": "stdout",
     "output_type": "stream",
     "text": [
      "Model: \"sequential\"\n",
      "_________________________________________________________________\n",
      " Layer (type)                Output Shape              Param #   \n",
      "=================================================================\n",
      " embedding (Embedding)       (None, 12, 10)            100000    \n",
      "                                                                 \n",
      "=================================================================\n",
      "Total params: 100000 (390.62 KB)\n",
      "Trainable params: 100000 (390.62 KB)\n",
      "Non-trainable params: 0 (0.00 Byte)\n",
      "_________________________________________________________________\n"
     ]
    }
   ],
   "source": [
    "model.summary()"
   ]
  },
  {
   "cell_type": "code",
   "execution_count": 10,
   "metadata": {},
   "outputs": [
    {
     "name": "stdout",
     "output_type": "stream",
     "text": [
      "1/1 [==============================] - 0s 30ms/step\n"
     ]
    }
   ],
   "source": [
    "embedding = model.predict(padded_one_hot)"
   ]
  },
  {
   "cell_type": "code",
   "execution_count": 11,
   "metadata": {},
   "outputs": [
    {
     "data": {
      "text/plain": [
       "array([[[ 0.01860912, -0.01289159, -0.00052289, ..., -0.01871748,\n",
       "          0.00699279, -0.0423573 ],\n",
       "        [-0.03626828, -0.01989324, -0.02754606, ...,  0.04237806,\n",
       "         -0.03999794, -0.04681655],\n",
       "        [ 0.00578677, -0.02803568, -0.028514  , ..., -0.01860055,\n",
       "          0.04125359,  0.02103657],\n",
       "        ...,\n",
       "        [-0.02612898,  0.0332109 ,  0.02325222, ...,  0.01159407,\n",
       "         -0.04860947,  0.00679975],\n",
       "        [ 0.02317308,  0.01162546,  0.00311346, ..., -0.03873856,\n",
       "          0.03140852,  0.00456572],\n",
       "        [ 0.0447746 , -0.01964201, -0.00113051, ...,  0.02883453,\n",
       "          0.00272129, -0.01816533]],\n",
       "\n",
       "       [[ 0.02076346, -0.00832932,  0.03483721, ..., -0.00824565,\n",
       "          0.00533297, -0.03253748],\n",
       "        [-0.04282767, -0.01008217,  0.04280161, ..., -0.03528611,\n",
       "         -0.01532875,  0.03776911],\n",
       "        [ 0.02195916, -0.01540512, -0.02273513, ...,  0.02499983,\n",
       "         -0.01569838, -0.00830487],\n",
       "        ...,\n",
       "        [ 0.0270975 , -0.01112311,  0.01381162, ...,  0.02696155,\n",
       "         -0.01013774,  0.01999373],\n",
       "        [ 0.02317308,  0.01162546,  0.00311346, ..., -0.03873856,\n",
       "          0.03140852,  0.00456572],\n",
       "        [-0.04084908, -0.00464297, -0.04151102, ...,  0.01179232,\n",
       "          0.02670251, -0.02671759]],\n",
       "\n",
       "       [[-0.03613897,  0.04488401,  0.02223722, ..., -0.01285393,\n",
       "          0.04345307, -0.02395469],\n",
       "        [-0.01573861,  0.02618045, -0.03852816, ..., -0.03596076,\n",
       "          0.00153748,  0.01968486],\n",
       "        [-0.01276041, -0.04810721, -0.02479516, ...,  0.03030287,\n",
       "         -0.03503231, -0.03092668],\n",
       "        ...,\n",
       "        [-0.0016346 , -0.04806887, -0.01231726, ..., -0.01893078,\n",
       "          0.02172991, -0.0054486 ],\n",
       "        [ 0.02317308,  0.01162546,  0.00311346, ..., -0.03873856,\n",
       "          0.03140852,  0.00456572],\n",
       "        [-0.01655296, -0.03653376, -0.01436853, ..., -0.00339555,\n",
       "          0.0282093 , -0.03139693]],\n",
       "\n",
       "       ...,\n",
       "\n",
       "       [[ 0.02317308,  0.01162546,  0.00311346, ..., -0.03873856,\n",
       "          0.03140852,  0.00456572],\n",
       "        [-0.03198646, -0.03033636,  0.02945134, ...,  0.02134017,\n",
       "         -0.04342813,  0.04459877],\n",
       "        [ 0.04523695,  0.02257613,  0.04366264, ...,  0.00059285,\n",
       "         -0.03094114,  0.03737316],\n",
       "        ...,\n",
       "        [-0.01489738, -0.02180063,  0.01169411, ...,  0.03797013,\n",
       "         -0.00790173,  0.00886089],\n",
       "        [ 0.01278726,  0.03286778,  0.044055  , ..., -0.02838018,\n",
       "          0.01522968,  0.03925252],\n",
       "        [-0.01145862, -0.04961219, -0.00507392, ...,  0.01963455,\n",
       "         -0.02812188,  0.01284051]],\n",
       "\n",
       "       [[ 0.02076346, -0.00832932,  0.03483721, ..., -0.00824565,\n",
       "          0.00533297, -0.03253748],\n",
       "        [ 0.02076346, -0.00832932,  0.03483721, ..., -0.00824565,\n",
       "          0.00533297, -0.03253748],\n",
       "        [-0.04282767, -0.01008217,  0.04280161, ..., -0.03528611,\n",
       "         -0.01532875,  0.03776911],\n",
       "        ...,\n",
       "        [ 0.00090107,  0.04632378, -0.00659362, ..., -0.00948647,\n",
       "          0.00931304,  0.02755303],\n",
       "        [ 0.02151882,  0.03110098, -0.04325051, ..., -0.0471841 ,\n",
       "         -0.03515447, -0.04852794],\n",
       "        [-0.00598469, -0.03905299, -0.02464538, ..., -0.02755884,\n",
       "         -0.01483368, -0.04211415]],\n",
       "\n",
       "       [[ 0.02076346, -0.00832932,  0.03483721, ..., -0.00824565,\n",
       "          0.00533297, -0.03253748],\n",
       "        [ 0.02076346, -0.00832932,  0.03483721, ..., -0.00824565,\n",
       "          0.00533297, -0.03253748],\n",
       "        [ 0.02317308,  0.01162546,  0.00311346, ..., -0.03873856,\n",
       "          0.03140852,  0.00456572],\n",
       "        ...,\n",
       "        [ 0.00090107,  0.04632378, -0.00659362, ..., -0.00948647,\n",
       "          0.00931304,  0.02755303],\n",
       "        [ 0.01519189, -0.01586373,  0.03803043, ..., -0.01221938,\n",
       "         -0.01315025, -0.02681257],\n",
       "        [ 0.01715392,  0.04379224, -0.00541461, ...,  0.03437207,\n",
       "          0.02934842, -0.03396793]]], dtype=float32)"
      ]
     },
     "execution_count": 11,
     "metadata": {},
     "output_type": "execute_result"
    }
   ],
   "source": [
    "embedding"
   ]
  },
  {
   "cell_type": "code",
   "execution_count": 12,
   "metadata": {},
   "outputs": [
    {
     "data": {
      "text/plain": [
       "(10, 12, 10)"
      ]
     },
     "execution_count": 12,
     "metadata": {},
     "output_type": "execute_result"
    }
   ],
   "source": [
    "embedding.shape"
   ]
  },
  {
   "cell_type": "code",
   "execution_count": null,
   "metadata": {},
   "outputs": [],
   "source": []
  }
 ],
 "metadata": {
  "kernelspec": {
   "display_name": "tensorflow",
   "language": "python",
   "name": "python3"
  },
  "language_info": {
   "codemirror_mode": {
    "name": "ipython",
    "version": 3
   },
   "file_extension": ".py",
   "mimetype": "text/x-python",
   "name": "python",
   "nbconvert_exporter": "python",
   "pygments_lexer": "ipython3",
   "version": "3.10.13"
  }
 },
 "nbformat": 4,
 "nbformat_minor": 2
}
