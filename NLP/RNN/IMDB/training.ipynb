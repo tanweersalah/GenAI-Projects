{
 "cells": [
  {
   "cell_type": "code",
   "execution_count": 297,
   "metadata": {},
   "outputs": [],
   "source": [
    "import tensorflow as tf"
   ]
  },
  {
   "cell_type": "code",
   "execution_count": 307,
   "metadata": {},
   "outputs": [],
   "source": [
    "from tensorflow.keras.layers import Flatten, Embedding, Dense, SimpleRNN, LSTM,Dropout\n",
    "from tensorflow.keras.models import Sequential\n",
    "from tensorflow.keras.preprocessing.sequence import pad_sequences\n",
    "import matplotlib.pyplot as plt\n",
    "import numpy as np"
   ]
  },
  {
   "cell_type": "code",
   "execution_count": 299,
   "metadata": {},
   "outputs": [],
   "source": [
    "from tensorflow.keras.datasets import imdb"
   ]
  },
  {
   "cell_type": "markdown",
   "metadata": {},
   "source": [
    "## Load dataset"
   ]
  },
  {
   "cell_type": "code",
   "execution_count": 300,
   "metadata": {},
   "outputs": [],
   "source": [
    "start_char = 1\n",
    "oov_char = 2\n",
    "index_from = 3\n",
    "vocab_size = 20000\n",
    "max_len = 50"
   ]
  },
  {
   "cell_type": "code",
   "execution_count": 301,
   "metadata": {},
   "outputs": [],
   "source": [
    "(x_train, y_train), (x_test, y_test) = imdb.load_data(num_words=vocab_size)"
   ]
  },
  {
   "cell_type": "code",
   "execution_count": 302,
   "metadata": {},
   "outputs": [],
   "source": [
    "word_index = imdb.get_word_index()"
   ]
  },
  {
   "cell_type": "code",
   "execution_count": 303,
   "metadata": {},
   "outputs": [
    {
     "data": {
      "text/plain": [
       "88584"
      ]
     },
     "execution_count": 303,
     "metadata": {},
     "output_type": "execute_result"
    }
   ],
   "source": [
    "len(word_index)"
   ]
  },
  {
   "cell_type": "code",
   "execution_count": 304,
   "metadata": {},
   "outputs": [],
   "source": [
    "\n",
    "index_word = {value+index_from:key for key,value in word_index.items()}\n",
    "index_word[start_char] = \"[START]\"\n",
    "index_word[oov_char] = \"[OOV]\""
   ]
  },
  {
   "cell_type": "code",
   "execution_count": 305,
   "metadata": {},
   "outputs": [
    {
     "data": {
      "text/plain": [
       "\"[START] please give this one a miss br br kristy swanson and the rest of the cast rendered terrible performances the show is flat flat flat br br i don't know how michael madison could have allowed this one on his plate he almost seemed to know this wasn't going to work out and his performance was quite lacklustre so all you madison fans give this a miss\""
      ]
     },
     "execution_count": 305,
     "metadata": {},
     "output_type": "execute_result"
    }
   ],
   "source": [
    "\" \".join([index_word.get(i) for i in x_test[0]])"
   ]
  },
  {
   "cell_type": "code",
   "execution_count": 286,
   "metadata": {},
   "outputs": [],
   "source": [
    "padded_x_train = pad_sequences(x_train, maxlen=max_len)\n",
    "padded_x_test = pad_sequences(x_test, maxlen=max_len)"
   ]
  },
  {
   "cell_type": "code",
   "execution_count": 287,
   "metadata": {},
   "outputs": [],
   "source": [
    "model = Sequential([\n",
    "    Embedding(vocab_size, 128 , input_length= max_len),\n",
    "    Flatten(),\n",
    "    Dense(1, activation= 'sigmoid')\n",
    "])\n",
    "\n",
    "model.compile(optimizer='adam', loss='binary_crossentropy' , metrics=['accuracy'])"
   ]
  },
  {
   "cell_type": "code",
   "execution_count": 288,
   "metadata": {},
   "outputs": [
    {
     "name": "stdout",
     "output_type": "stream",
     "text": [
      "Epoch 1/10\n"
     ]
    },
    {
     "name": "stdout",
     "output_type": "stream",
     "text": [
      "150/150 [==============================] - 1s 9ms/step - loss: 0.5992 - accuracy: 0.6954 - val_loss: 0.4446 - val_accuracy: 0.8020\n",
      "Epoch 2/10\n",
      "150/150 [==============================] - 1s 8ms/step - loss: 0.3342 - accuracy: 0.8648 - val_loss: 0.3851 - val_accuracy: 0.8265\n",
      "Epoch 3/10\n",
      "150/150 [==============================] - 1s 8ms/step - loss: 0.1998 - accuracy: 0.9381 - val_loss: 0.3925 - val_accuracy: 0.8249\n",
      "Epoch 4/10\n",
      "150/150 [==============================] - 1s 8ms/step - loss: 0.1038 - accuracy: 0.9813 - val_loss: 0.4127 - val_accuracy: 0.8184\n",
      "Epoch 5/10\n",
      "150/150 [==============================] - 1s 8ms/step - loss: 0.0493 - accuracy: 0.9962 - val_loss: 0.4368 - val_accuracy: 0.8168\n",
      "Epoch 6/10\n",
      "150/150 [==============================] - 1s 8ms/step - loss: 0.0252 - accuracy: 0.9995 - val_loss: 0.4581 - val_accuracy: 0.8159\n",
      "Epoch 7/10\n",
      "150/150 [==============================] - 1s 8ms/step - loss: 0.0147 - accuracy: 1.0000 - val_loss: 0.4782 - val_accuracy: 0.8145\n",
      "Epoch 8/10\n",
      "150/150 [==============================] - 1s 9ms/step - loss: 0.0096 - accuracy: 1.0000 - val_loss: 0.4945 - val_accuracy: 0.8138\n",
      "Epoch 9/10\n",
      "150/150 [==============================] - 1s 8ms/step - loss: 0.0068 - accuracy: 1.0000 - val_loss: 0.5101 - val_accuracy: 0.8137\n",
      "Epoch 10/10\n",
      "150/150 [==============================] - 2s 10ms/step - loss: 0.0050 - accuracy: 1.0000 - val_loss: 0.5235 - val_accuracy: 0.8138\n"
     ]
    }
   ],
   "source": [
    "history = model.fit(padded_x_train, y_train, steps_per_epoch=150, epochs=10 ,validation_data=(padded_x_test, y_test))\n",
    "\n"
   ]
  },
  {
   "cell_type": "code",
   "execution_count": 276,
   "metadata": {},
   "outputs": [
    {
     "data": {
      "text/plain": [
       "dict_keys(['loss', 'accuracy', 'val_loss', 'val_accuracy'])"
      ]
     },
     "execution_count": 276,
     "metadata": {},
     "output_type": "execute_result"
    }
   ],
   "source": [
    "history.history.keys()\n",
    "\n"
   ]
  },
  {
   "cell_type": "code",
   "execution_count": 289,
   "metadata": {},
   "outputs": [
    {
     "data": {
      "image/png": "[encoded data removed]",
      "text/plain": [
       "<Figure size 640x480 with 1 Axes>"
      ]
     },
     "metadata": {},
     "output_type": "display_data"
    }
   ],
   "source": [
    "acc  = history.history['accuracy']\n",
    "val_acc  = history.history['val_accuracy']\n",
    "plt.plot(range(len(acc)), acc  )\n",
    "plt.plot(range(len(val_acc)), val_acc )\n",
    "plt.xlabel('epochs')\n",
    "plt.ylabel('accuracy')\n",
    "plt.legend(['Accuracy', 'Validation Accuracy'])\n",
    "plt.grid()\n",
    "\n"
   ]
  },
  {
   "cell_type": "code",
   "execution_count": 294,
   "metadata": {},
   "outputs": [],
   "source": [
    "model_rnn = Sequential([\n",
    "    Embedding(vocab_size, 128 , input_length= max_len ),\n",
    "    SimpleRNN( 128, activation='tanh'),\n",
    "    Dense(1, activation= 'sigmoid')\n",
    "])\n",
    "model_rnn.compile(optimizer='adam', loss='binary_crossentropy' , metrics=['accuracy'])"
   ]
  },
  {
   "cell_type": "code",
   "execution_count": 295,
   "metadata": {},
   "outputs": [
    {
     "name": "stdout",
     "output_type": "stream",
     "text": [
      "Epoch 1/10\n"
     ]
    },
    {
     "name": "stdout",
     "output_type": "stream",
     "text": [
      "150/150 [==============================] - 7s 43ms/step - loss: 0.5067 - accuracy: 0.7462 - val_loss: 0.4134 - val_accuracy: 0.8127\n",
      "Epoch 2/10\n",
      "150/150 [==============================] - 6s 43ms/step - loss: 0.2888 - accuracy: 0.8799 - val_loss: 0.4425 - val_accuracy: 0.7978\n",
      "Epoch 3/10\n",
      "150/150 [==============================] - 7s 45ms/step - loss: 0.1187 - accuracy: 0.9584 - val_loss: 0.5719 - val_accuracy: 0.7908\n",
      "Epoch 4/10\n",
      "150/150 [==============================] - 6s 43ms/step - loss: 0.0324 - accuracy: 0.9898 - val_loss: 0.7775 - val_accuracy: 0.7900\n",
      "Epoch 5/10\n",
      "150/150 [==============================] - 6s 43ms/step - loss: 0.0141 - accuracy: 0.9964 - val_loss: 0.8364 - val_accuracy: 0.7885\n",
      "Epoch 6/10\n",
      "150/150 [==============================] - 6s 43ms/step - loss: 0.0045 - accuracy: 0.9989 - val_loss: 0.9520 - val_accuracy: 0.7827\n",
      "Epoch 7/10\n",
      "150/150 [==============================] - 6s 43ms/step - loss: 0.0013 - accuracy: 1.0000 - val_loss: 1.0239 - val_accuracy: 0.7852\n",
      "Epoch 8/10\n",
      "150/150 [==============================] - 6s 43ms/step - loss: 3.0791e-04 - accuracy: 1.0000 - val_loss: 1.0713 - val_accuracy: 0.7864\n",
      "Epoch 9/10\n",
      "150/150 [==============================] - 6s 43ms/step - loss: 1.4292e-04 - accuracy: 1.0000 - val_loss: 1.0826 - val_accuracy: 0.7852\n",
      "Epoch 10/10\n",
      "150/150 [==============================] - 7s 44ms/step - loss: 1.0224e-04 - accuracy: 1.0000 - val_loss: 1.1385 - val_accuracy: 0.7856\n"
     ]
    }
   ],
   "source": [
    "history_rnn = model_rnn.fit(padded_x_train, y_train, steps_per_epoch=150, epochs=10 , validation_data=(padded_x_test, y_test))"
   ]
  },
  {
   "cell_type": "code",
   "execution_count": 296,
   "metadata": {},
   "outputs": [
    {
     "data": {
      "image/png": "[encoded data removed]",
      "text/plain": [
       "<Figure size 640x480 with 1 Axes>"
      ]
     },
     "metadata": {},
     "output_type": "display_data"
    }
   ],
   "source": [
    "acc  = history_rnn.history['accuracy']\n",
    "val_acc  = history_rnn.history['val_accuracy']\n",
    "plt.plot(range(len(acc)), acc  )\n",
    "plt.plot(range(len(val_acc)), val_acc )\n",
    "plt.xlabel('epochs')\n",
    "plt.ylabel('accuracy')\n",
    "plt.legend(['Accuracy', 'Validation Accuracy'])\n",
    "plt.grid()"
   ]
  },
  {
   "cell_type": "code",
   "execution_count": 310,
   "metadata": {},
   "outputs": [],
   "source": [
    "model_lstm = Sequential([\n",
    "    Embedding(vocab_size, 128, input_length= max_len),\n",
    "    LSTM(150, return_sequences=True),\n",
    "    Dropout(0.2),\n",
    "    LSTM(100),\n",
    "    Dense(1, activation='sigmoid')\n",
    "    \n",
    "])\n",
    "model_lstm.compile(optimizer=\"adam\", loss=\"binary_crossentropy\", metrics= ['acc'])"
   ]
  },
  {
   "cell_type": "code",
   "execution_count": 311,
   "metadata": {},
   "outputs": [
    {
     "name": "stdout",
     "output_type": "stream",
     "text": [
      "Epoch 1/10\n"
     ]
    },
    {
     "name": "stdout",
     "output_type": "stream",
     "text": [
      "782/782 [==============================] - 81s 102ms/step - loss: 0.4592 - acc: 0.7810 - val_loss: 0.4059 - val_acc: 0.8138\n",
      "Epoch 2/10\n",
      "782/782 [==============================] - 79s 101ms/step - loss: 0.2876 - acc: 0.8795 - val_loss: 0.4190 - val_acc: 0.8096\n",
      "Epoch 3/10\n",
      "782/782 [==============================] - 80s 102ms/step - loss: 0.1823 - acc: 0.9288 - val_loss: 0.5040 - val_acc: 0.7986\n",
      "Epoch 4/10\n",
      "782/782 [==============================] - 79s 102ms/step - loss: 0.1105 - acc: 0.9586 - val_loss: 0.6812 - val_acc: 0.7929\n",
      "Epoch 5/10\n",
      "782/782 [==============================] - 79s 101ms/step - loss: 0.0615 - acc: 0.9785 - val_loss: 0.8671 - val_acc: 0.7882\n",
      "Epoch 6/10\n",
      "782/782 [==============================] - 77s 98ms/step - loss: 0.0451 - acc: 0.9852 - val_loss: 0.8659 - val_acc: 0.7929\n",
      "Epoch 7/10\n",
      "782/782 [==============================] - 78s 100ms/step - loss: 0.0316 - acc: 0.9897 - val_loss: 1.0575 - val_acc: 0.7899\n",
      "Epoch 8/10\n",
      "782/782 [==============================] - 78s 99ms/step - loss: 0.0260 - acc: 0.9913 - val_loss: 0.9108 - val_acc: 0.7782\n",
      "Epoch 9/10\n",
      "782/782 [==============================] - 78s 100ms/step - loss: 0.0233 - acc: 0.9925 - val_loss: 1.0391 - val_acc: 0.7952\n",
      "Epoch 10/10\n",
      "782/782 [==============================] - 78s 100ms/step - loss: 0.0197 - acc: 0.9938 - val_loss: 1.1293 - val_acc: 0.7798\n"
     ]
    }
   ],
   "source": [
    "history = model_lstm.fit(padded_x_train,y_train, epochs=10, batch_size=32 , validation_data=(padded_x_test, y_test))"
   ]
  },
  {
   "cell_type": "markdown",
   "metadata": {},
   "source": [
    "## Save models"
   ]
  },
  {
   "cell_type": "code",
   "execution_count": 312,
   "metadata": {},
   "outputs": [
    {
     "name": "stderr",
     "output_type": "stream",
     "text": [
      "/Users/tanweersalah/anaconda3/envs/tensorflow/lib/python3.10/site-packages/keras/src/engine/training.py:3079: UserWarning: You are saving your model as an HDF5 file via `model.save()`. This file format is considered legacy. We recommend using instead the native Keras format, e.g. `model.save('my_model.keras')`.\n",
      "  saving_api.save_model(\n"
     ]
    }
   ],
   "source": [
    "model.save('app/model/simple_ann_imdb.h5')\n",
    "model_rnn.save('app/model/simple_rnn_imdb.h5')\n",
    "model_lstm.save('app/model/simple_lstm_imdb.h5')"
   ]
  }
 ],
 "metadata": {
  "kernelspec": {
   "display_name": "tensorflow",
   "language": "python",
   "name": "python3"
  },
  "language_info": {
   "codemirror_mode": {
    "name": "ipython",
    "version": 3
   },
   "file_extension": ".py",
   "mimetype": "text/x-python",
   "name": "python",
   "nbconvert_exporter": "python",
   "pygments_lexer": "ipython3",
   "version": "3.10.13"
  }
 },
 "nbformat": 4,
 "nbformat_minor": 2
}
