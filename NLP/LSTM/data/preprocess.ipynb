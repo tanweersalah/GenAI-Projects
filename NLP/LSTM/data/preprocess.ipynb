{
 "cells": [
  {
   "cell_type": "code",
   "execution_count": 1,
   "metadata": {},
   "outputs": [],
   "source": [
    "import os\n",
    "\n"
   ]
  },
  {
   "cell_type": "code",
   "execution_count": 2,
   "metadata": {},
   "outputs": [],
   "source": [
    "data_dir = os.getcwd()"
   ]
  },
  {
   "cell_type": "code",
   "execution_count": 3,
   "metadata": {},
   "outputs": [],
   "source": [
    "mirzapur_folder = os.path.join(data_dir,'mirzapur')\n",
    "output_folder = os.path.join(data_dir,'output')"
   ]
  },
  {
   "cell_type": "code",
   "execution_count": 4,
   "metadata": {},
   "outputs": [],
   "source": [
    "mirzapur_files = os.listdir(mirzapur_folder)\n",
    "output_files = os.listdir(output_folder)"
   ]
  },
  {
   "cell_type": "code",
   "execution_count": 5,
   "metadata": {},
   "outputs": [
    {
     "data": {
      "text/plain": [
       "[]"
      ]
     },
     "execution_count": 5,
     "metadata": {},
     "output_type": "execute_result"
    }
   ],
   "source": [
    "output_files"
   ]
  },
  {
   "cell_type": "code",
   "execution_count": 6,
   "metadata": {},
   "outputs": [],
   "source": [
    "from runTransliteration import convert_file\n",
    "import pysrt\n",
    "\n",
    "\n",
    "subtitle_s1 =[] \n",
    "for  i in mirzapur_files:\n",
    "    subs = pysrt.open(os.path.join(mirzapur_folder, i))\n",
    "    subtitle_s1.append(subs)"
   ]
  },
  {
   "cell_type": "code",
   "execution_count": 21,
   "metadata": {},
   "outputs": [],
   "source": [
    "converted_text = []\n",
    "\n",
    "for ep in subtitle_s1 :\n",
    "    for dialogs in ep:\n",
    "        for dialog in  dialogs.text.split('\\n') : \n",
    "            converted_text.append(convert_file(dialog).strip())"
   ]
  },
  {
   "cell_type": "code",
   "execution_count": 94,
   "metadata": {},
   "outputs": [
    {
     "data": {
      "text/plain": [
       "['paakoo vidyarthi.',\n",
       " 'sabhi tumko pasnd karte hain.',\n",
       " 'aur, in dinon, klej ka mahaul na',\n",
       " 'thora kharab ho raha hai.',\n",
       " 'sar, aap abhi tak mudde pe nahin aae.',\n",
       " 'mudde pe aa rahe hain,',\n",
       " 'raste men hain.',\n",
       " 'mudde pe nahin aa rahe hain.',\n",
       " 'chunav men khari hogi?',\n",
       " 'dipoo ji pichhe hat ge hain.',\n",
       " 'aur munna jo hai, vo kaimpas men',\n",
       " 'kafi laraee-jhgara kar raha hai.',\n",
       " 'tum agar khari hoti ho,',\n",
       " 'to usko chunauti milegi.',\n",
       " 'aur tum agar jit jati ho,',\n",
       " 'to klej ki thori safaee ho jaegi.',\n",
       " 'am',\n",
       " 'ekadam se soch nahin pa rahe hain, sar.',\n",
       " 'thora sarapraiz kar diya aap hamen.',\n",
       " 'sarapraiz nahin hai.',\n",
       " 'tumhare pas abhi bahut vakt hai.',\n",
       " 'soch lo. sochke hamko batao.',\n",
       " 'aur kam aasan nahin hai.',\n",
       " 'aur agar aasan hota,',\n",
       " 'to ham tumko kyon bolte?',\n",
       " 'ji, sar.',\n",
       " 'sochke batate hain, sar.',\n",
       " 'yar, hamare to kuchh samajh men',\n",
       " 'nahin aa raha, guddoo bhaiya.',\n",
       " 'abe, tum hi kuchh batao be.',\n",
       " 'are, bhaiya, itna to dikha chuke hain.',\n",
       " 'ab aap hi kuchh bataie.',\n",
       " 'achchha, ruko, ruko.',\n",
       " 'aesi dikhti hain hamari mammi.',\n",
       " 'aanti ji ka to rng saf hai.',\n",
       " 'ab dikhate hain aapko kntap mal.',\n",
       " 'zara bajat bataie.',\n",
       " 'abe, tum dikhao, yar. bajat chhoro.',\n",
       " 'ye dekhie behatrin chiz.',\n",
       " 'keval das hazar ki hai.',\n",
       " 'aee hazar hain.',\n",
       " 'sun lie na.',\n",
       " 'tin nnbar tebal ka bil bana dijiega.',\n",
       " 'ye lijie.',\n",
       " 'lao.',\n",
       " 'chalo.',\n",
       " 'das rupya to dijie.',\n",
       " 'chootiya ho kya?',\n",
       " 'guddoo bhaiya, bachcha hai.',\n",
       " 'to ham bhi bachche hain.',\n",
       " 'chalo, yar.',\n",
       " 'kya hai? paisa to dijie!',\n",
       " 'ye pakaro.',\n",
       " 'nee bndook la die hain makbool?',\n",
       " 'chamak rahi hai.',\n",
       " 'purani itna dhoondhe,',\n",
       " 'mili hi nahin.',\n",
       " 'ye lijie.',\n",
       " 'baitho.',\n",
       " 'akhanda',\n",
       " 'dhyan rakhte hain na tumhara?',\n",
       " 'vyast rahte hain.',\n",
       " 'aur hamara dhyan rakhne men kya hai?',\n",
       " 'ham to khudee malkin hain.',\n",
       " 'ab, ghar men koee',\n",
       " 'khelne-khilane ko bhi to nahin hai.',\n",
       " 'ham jaen?',\n",
       " 'hamm? han, jao.',\n",
       " 'too in chakkron men kahan paregi, goloo?',\n",
       " 'tabhi to han nahin kie hain, didi.',\n",
       " 'sochne ki vakt mange hain rndhir sinh sar se.',\n",
       " 'vaise,',\n",
       " 'ek bat vo sahi kahe.',\n",
       " 'klej to apna hi hai.',\n",
       " 'shatal do, gem pint hai hamari.',\n",
       " 'tum to aese bhi jit hi jaogi.',\n",
       " 'sham ko fri ho?',\n",
       " 'kyon?',\n",
       " 'haeeve vale maikadnald pe',\n",
       " 'bargar khilane le jaenge.',\n",
       " 'kitne baje?',\n",
       " 'kitne baje',\n",
       " 'tum batao. abhi kya vakt huaa hai? ye do',\n",
       " '- char baje chalo.',\n",
       " '- char baje?',\n",
       " 'han.',\n",
       " 'oho, abhi yad aaya.',\n",
       " 'char baje ham kisi ke sath ja rahe hain',\n",
       " 'aaloo paitiz khane.',\n",
       " 'det hai hamari.',\n",
       " 'kya kya kaun hai?',\n",
       " 'aur kya nam kya hai ye aaloo paitiz ka?',\n",
       " 'kahe?',\n",
       " 'didi ka rishta leke jaoge uske pas,',\n",
       " 'nam bataen to?',\n",
       " 'ye pyar na,',\n",
       " 'sala bahut chootiya chiz hai, sviti.',\n",
       " 'jo na hota na,',\n",
       " 'to itni beizzti pe to',\n",
       " 'abhi tum donon ko nipta dete ham.',\n",
       " 'dekho, munna,',\n",
       " 'shahar men aur bhi bahut larkiyan hain.',\n",
       " 'ham tumko achchhe lagte hain',\n",
       " 'aur tum hamko achchhe nahin lagte.',\n",
       " 'bat khatam.',\n",
       " 'munna ki koee bhi bat',\n",
       " 'itni aasani se khatam nahin hoti, sviti.',\n",
       " 'thik hai.',\n",
       " 'ऑl d best.',\n",
       " 'han, be kampaundar, bolo.',\n",
       " 'kahan ho tum?',\n",
       " 'kiske sath ja rahi hain aap det pe?',\n",
       " 'ja to nahin rahe the,',\n",
       " 'ab jaenge.',\n",
       " 'helo.',\n",
       " 'han, sviti. ham aa jaenge.',\n",
       " 'kitne kitne baje?',\n",
       " 'hain?',\n",
       " 'helo?',\n",
       " 'helo?',\n",
       " 'h helo',\n",
       " 'abe!',\n",
       " 'sale, hrn gand men dal denge abhi.',\n",
       " 'paun, paun, paun, paun.',\n",
       " 'helikptar banke jaoge kya?',\n",
       " 'bat kar rahe hain na!',\n",
       " 'bhosari ke, nikal!',\n",
       " 'nikal, bhosari ke, nahin to marenge. niklo.',\n",
       " 'helo?',\n",
       " 'han, ham aa jaenge.',\n",
       " 'han, char baje aa jaenge.',\n",
       " 'aur vaise bhi, aaloo paitiz khae',\n",
       " 'bahut taim ho gaya hai.',\n",
       " 'namaste, satyaprkas.',\n",
       " 'aaie, munna bhaiyaji, namaste.',\n",
       " 'philam shuroo ho gee?',\n",
       " 'abhi pichhla sho chal raha hai, thora der huaa.',\n",
       " 'hamen bhi dikhao.',\n",
       " 'bhaiyaji.',\n",
       " 'han, ek bar sab log uth jao,',\n",
       " 'aur bahar aa jao.',\n",
       " 'thik hai?',\n",
       " 'sho sho bnd ho gaya hai.',\n",
       " 'are, kharabi ho gee hai. e!',\n",
       " 'are, bnd karo projektar kah rahe hain.',\n",
       " 'samajh nahin aa raha hai.',\n",
       " 'is shahar ko ye huaa kya hai?',\n",
       " 'kahin aag hai, to kahin dhuaan-dhuaan.',\n",
       " 'bhaiya ne',\n",
       " 'barf lagava dijie yahan.',\n",
       " 'ji, bhaiyaji.',\n",
       " 'dhoomrpan apradh hai',\n",
       " 'ho gee bardasht ki ab intha.',\n",
       " 'bhaiyaji.',\n",
       " 'bujhe sigret-biri, dikhe jalti jahan.',\n",
       " 'are, bhaiya,',\n",
       " 'aap hamen kahe lae yahan pe?',\n",
       " 'phat rahi hai buri tarah, yar.',\n",
       " 'sviti khud bulaee hai.',\n",
       " 'are, to ham kya kar lenge?',\n",
       " 'abe, hausla doge, aur kya, be?',\n",
       " 'chupchap chalo andar.',\n",
       " 'babloo, jaldi karo, yar.',\n",
       " 'are, ruk jao bhee.',\n",
       " 'han, sari pakaro.',\n",
       " 'bas, yahi rah gaya hai ab.',\n",
       " 'hae.',\n",
       " 'hae.',\n",
       " 'hae.',\n",
       " 'hae ho gaya.',\n",
       " 'han.',\n",
       " 'kya khaogi?',\n",
       " 'aaloo paitiz.',\n",
       " 'yahi bole the na ham?',\n",
       " 'to mngao.',\n",
       " 'char aaloo paitiz,',\n",
       " 'aur char ninboo soda.',\n",
       " 'idhar do hi aaloo paitiz dena,',\n",
       " 'aur ek ninboo soda.',\n",
       " 'han.',\n",
       " 'too baith na udhar, khali tebal pe.',\n",
       " 'bab',\n",
       " 'b babloo.',\n",
       " 'ja ja rahe hain.',\n",
       " 'jyada phaintam nahin banie.',\n",
       " '- abhi thori der pahle pilpila rahe the.',\n",
       " '- abe, jao na, yar.',\n",
       " 'ji, vo',\n",
       " 'aap kuchh khaengi? kuchh ऑrdar karen?',\n",
       " 'aap bhi zyada phaintam na banen.',\n",
       " 'shanti se baithe rahie.',\n",
       " 'ham aapke sath det par nahin aae hain.',\n",
       " 'aur aapka kya ऑrdar hai, ji?',\n",
       " 'hamare lie sirf ek gilas pani,',\n",
       " 'aur maidam ke lie kuchh nahin, kyonki vo jab',\n",
       " 'det pe aaengi, tabhi khaengi, thik hai?',\n",
       " 'chalo jao.',\n",
       " 'larka kya hota hai, pata hai?',\n",
       " 'bakra. khila-pilake mota karte hain, ek din',\n",
       " 'kiske sath ja rahi hogi, be, sviti det pe?',\n",
       " 'man chod den kya?',\n",
       " 'kahan, munna bhaiya?',\n",
       " 'mirzapur men kiski himmat hai',\n",
       " 'jo sviti bhabhi ke sath det pe jae?',\n",
       " 'lijie.',\n",
       " 'han, vo bhi hai.',\n",
       " 'lekin sviti dil bahut dukhati hai, yar.',\n",
       " 'bhaiyaji, aap bhi kahan',\n",
       " 'pyar-shyar ke chakkar men pare hain.',\n",
       " 'thoko, pito, aage bao.',\n",
       " 'us gali se',\n",
       " 'jate hi nahin hain, jahan kuchh mile hi nahin.',\n",
       " 'tumhara bhosari ke, dimag hil gaya hai kya?',\n",
       " 'ek kan pahle hi ur gaya hai,',\n",
       " 'doosra ham ura denge.',\n",
       " 'bahut uljhate ho, yar, tum.',\n",
       " 'jindgi men kisi ke bare men',\n",
       " 'dil se ham kabhi sochenge ki nahin?',\n",
       " 'piyo.',\n",
       " 'dham se kaise bula lie?',\n",
       " 'kyon?',\n",
       " 'achchha nahin laga?',\n",
       " 'ham to aesi hi tumko aage bhi bula lenge.',\n",
       " 'soch lo.',\n",
       " 'soch lie.',\n",
       " 'hamm.',\n",
       " 'mahadevi ji?',\n",
       " 'are, ham to bahut bare phain hain inke.',\n",
       " 'nahin.',\n",
       " 'dekhie, aap koee galatafahmi nahin rakhiega,',\n",
       " 'ham sach men bahut bare phain hain inke.',\n",
       " 'ham koee lain nahin mar rahe hain.',\n",
       " 'munna bhaiya,',\n",
       " 'ham soche the unko marenge.',\n",
       " 'aap pe hath chhore the sale.',\n",
       " 'abe, man to hamara bhi tha, be kampaundar.',\n",
       " 'lekin kal ko phir',\n",
       " 'vyapar bhi hamen hi dekhna hai.',\n",
       " 'jab chahenge donon ko',\n",
       " 'vo to hai, munna bhaiya.',\n",
       " 'poora enpayar sala aap hi ka hi to hai.',\n",
       " 'han, hai to sahi.',\n",
       " 'ham bhi usi ka intjar kar rahe hain.',\n",
       " 'aaj nahin to kal.',\n",
       " 'aap kahen to jaldi kara den, munna bhaiya.',\n",
       " 'hamm?',\n",
       " 'aapke lie to ham kalin bhaiya ko bhi',\n",
       " '- kya bole, be, tum?',\n",
       " '- galti ho gee, munna bhaiya.',\n",
       " 'kya bole tum?',\n",
       " 'galti se munh se nikal gaya, munna bhaiya.',\n",
       " 'madarchod, hamare bap ko hath lagaoge tum?',\n",
       " 'katke phinkva denge.',\n",
       " 'ham launde hain unke, kuchh bhi bol sakte hain,',\n",
       " 'tum nahin!',\n",
       " 'bhaiyaji.',\n",
       " 'bhaiyaji, jane dijie.',\n",
       " 'daroo pike josh men bol gaya.',\n",
       " 'bhaiyaji, donon un laundon ko yahin bula len.',\n",
       " 'thora maja liya jae.',\n",
       " 'thnda chndan inhen lagatin,',\n",
       " 'inka bhog hamen de jatin,',\n",
       " 'phir bhi kuchh nahin bole hain,',\n",
       " 'man ke thakur ji bhole hain.',\n",
       " 'aap janti hain,',\n",
       " 'ye mahadevi ji ki pahli kavita thi.',\n",
       " 'aur ye unhonne tab likhi thin',\n",
       " 'jab vo sirf chhah baras ki thin.',\n",
       " 'ye lijie.',\n",
       " 'ye kya hai?',\n",
       " 'phaltoo paitiz kahe lagae ho?',\n",
       " 'din men lie the na.',\n",
       " 'phir bhag ge the bina paisa die.',\n",
       " 'jor die.',\n",
       " 'galat galatafahmi ho gaya hai.',\n",
       " 'ham niptake aate hain.',\n",
       " 'kya, be chhotoo? han?',\n",
       " 'paisa loge hamse?',\n",
       " 'jante ho ham kaun hain?',\n",
       " 'janne men kya rakha hai?',\n",
       " 'aap jante hain ham kaun hain?',\n",
       " 'phir?',\n",
       " 'aur vaise bhi, 50 roopye dene men',\n",
       " 'aapki itni phat rahi hai,',\n",
       " 'to pakka aap koee jhndoo hi honge.',\n",
       " '- sale, denge',\n",
       " '- kya kar rahe hain? kya huaa?',\n",
       " 'bil diya hai sala.',\n",
       " 'ye lo.',\n",
       " 'aur tip?',\n",
       " '- sala!',\n",
       " '- are, 10 prtishat ret hai.',\n",
       " 'aur oopar se, aap to kuchh ऑrdar bhi nahin kie.',\n",
       " 'tebal aur gher lie.',\n",
       " 'ji.',\n",
       " 'kya ho gaya tha?',\n",
       " 'kuchh nahin. nipta die.',\n",
       " 'tip bhi de die.',\n",
       " 'agli bar pikchar dekhne chalen, sviti?',\n",
       " 'dhaee ghnte ki hoti hai.',\n",
       " 'jyada vakt mil jaega.',\n",
       " 'salman ki lagegi, to chalenge.',\n",
       " 'shilpi men dikhaenge, bahut baiya hl hai.',\n",
       " 'helo?',\n",
       " 'munna bhaiya?',\n",
       " 'han.',\n",
       " 'han.',\n",
       " 'munna bhaiya bulae hain.',\n",
       " 'bhak sala.',\n",
       " 'pikchar men maja nahin aa raha hai.',\n",
       " 'hamm.',\n",
       " 'aao, maharthi.',\n",
       " 'aa jao, aa jao, aa jao, aa jao.',\n",
       " 'aao.',\n",
       " 'vo kya gipht hai hamare lie?',\n",
       " 'are, itna ghabra kahe rahe ho, bhaee?',\n",
       " 'are, khud chune hain tum logon ko.',\n",
       " 'socha thora knphartebal phil kara den.',\n",
       " 'lalit,',\n",
       " 'donon bhaiya ke lie ek baiya sa ghoont banao.',\n",
       " 'ji, ham daroo nahin pite hain.',\n",
       " 'ham bhi nahin.',\n",
       " 'guru, daroo sath pine vale vafadar hote hain.',\n",
       " 'tum vafadar to ho na, be?',\n",
       " 'hamm?',\n",
       " 'ho ki nahin? are, ho ki nahin?',\n",
       " 'thnd rakho, yar.',\n",
       " 'hamm.',\n",
       " 'bhee, sune hain,',\n",
       " 'tum bdibildar banna chahte ho?',\n",
       " 'ji, bhaiyaji. koshish kar rahe hain.',\n",
       " 'ek bat bataen, guru, bura mat manna.',\n",
       " 'bdi kamjor hai tumhari.',\n",
       " 'kaise karoge?',\n",
       " 'ham khana baaenge.',\n",
       " 'vo islie aapse vo ande bole the us din.',\n",
       " 'abe, to sirf andon se thori na hoga.',\n",
       " 'tum kya bata rahe the, be kampaundar,',\n",
       " 'batao vo.',\n",
       " 'han, vo, bdi banane ke lie,',\n",
       " 'davaee aati hai.',\n",
       " 'ye jo tumhara masal hai,',\n",
       " 'ekadam slid ho jaega, patthar ki tarah.',\n",
       " 'han, vo intarnet pe to pae hain ham.',\n",
       " 'hai hamare pas.',\n",
       " 'den tumko? muft men.',\n",
       " 'guddoo bhaiya.',\n",
       " 'are, ruko, yar.',\n",
       " 'to, bhaiya, ham kah rahe hain,',\n",
       " 'subh kam men der kis bat ki?',\n",
       " 'vo jo goli-voli deni hai, de do aaj hi.',\n",
       " 'han. hai hamare pas. chalie.',\n",
       " 'ye lo.',\n",
       " 'do leni hai roj.',\n",
       " 'par dhyan rahe, bhaiya.',\n",
       " 'bahut bhookh lagegi.',\n",
       " 'han. aur aese dil karega na',\n",
       " 'ki lapak ke le len kisi ki.',\n",
       " 'thik hai, to dhyan rakhna.',\n",
       " 'bad men aur bhi denge.',\n",
       " 'karak vali.',\n",
       " 'suroo kijie aap isse.',\n",
       " 'ye sab to thik hai, kampaundar bhaiya.',\n",
       " 'ham intarnet pe pae hain,',\n",
       " 'bdibilding ke lie kamal ki chij hai,',\n",
       " 'man ka doodh.',\n",
       " 'matalab, agar uska kuchh intazam',\n",
       " 'nahin?',\n",
       " 'nahin, pae hain.',\n",
       " 'pagla ge ho kya, bhaiya? hain?']"
      ]
     },
     "execution_count": 94,
     "metadata": {},
     "output_type": "execute_result"
    }
   ],
   "source": [
    "converted_text[30:400]"
   ]
  },
  {
   "cell_type": "code",
   "execution_count": 25,
   "metadata": {},
   "outputs": [
    {
     "data": {
      "text/plain": [
       "5678"
      ]
     },
     "execution_count": 25,
     "metadata": {},
     "output_type": "execute_result"
    }
   ],
   "source": [
    "len(converted_text)"
   ]
  },
  {
   "cell_type": "code",
   "execution_count": 30,
   "metadata": {},
   "outputs": [],
   "source": [
    "\n",
    "from tensorflow.keras.preprocessing.text import Tokenizer\n"
   ]
  },
  {
   "cell_type": "code",
   "execution_count": 61,
   "metadata": {},
   "outputs": [],
   "source": [
    "OOV_TOKEN = \"<OOV>\"\n",
    "VOCAB_SIZE = 10000\n",
    "MAX_LEN = 15"
   ]
  },
  {
   "cell_type": "code",
   "execution_count": 62,
   "metadata": {},
   "outputs": [],
   "source": [
    "tokenizer = Tokenizer(num_words=VOCAB_SIZE, oov_token=OOV_TOKEN )\n",
    "tokenizer.fit_on_texts(converted_text)"
   ]
  },
  {
   "cell_type": "code",
   "execution_count": 63,
   "metadata": {},
   "outputs": [],
   "source": [
    "sequence = tokenizer.texts_to_sequences(converted_text)"
   ]
  },
  {
   "cell_type": "code",
   "execution_count": 64,
   "metadata": {},
   "outputs": [],
   "source": [
    "n_gram_sequence = []\n",
    "for i in sequence :\n",
    "    if len(i)  > 1 :\n",
    "        for j in range(1,len(i)):\n",
    "            n_gram_sequence.append(i[:j+1])"
   ]
  },
  {
   "cell_type": "code",
   "execution_count": 65,
   "metadata": {},
   "outputs": [],
   "source": [
    "from tensorflow.keras.preprocessing.sequence import pad_sequences\n",
    "\n",
    "input_sequences = pad_sequences(n_gram_sequence, maxlen=MAX_LEN )"
   ]
  },
  {
   "cell_type": "code",
   "execution_count": 66,
   "metadata": {},
   "outputs": [
    {
     "data": {
      "text/plain": [
       "(20704, 15)"
      ]
     },
     "execution_count": 66,
     "metadata": {},
     "output_type": "execute_result"
    }
   ],
   "source": [
    "input_sequences.shape"
   ]
  },
  {
   "cell_type": "code",
   "execution_count": 67,
   "metadata": {},
   "outputs": [],
   "source": [
    "## X and Y\n",
    "\n",
    "x,y = input_sequences[: , :-1], input_sequences[:, -1]"
   ]
  },
  {
   "cell_type": "code",
   "execution_count": 68,
   "metadata": {},
   "outputs": [
    {
     "data": {
      "text/plain": [
       "(20704, 14)"
      ]
     },
     "execution_count": 68,
     "metadata": {},
     "output_type": "execute_result"
    }
   ],
   "source": [
    "x.shape"
   ]
  },
  {
   "cell_type": "code",
   "execution_count": 69,
   "metadata": {},
   "outputs": [
    {
     "data": {
      "text/plain": [
       "array([646, 358, 647, ...,   6, 384, 109], dtype=int32)"
      ]
     },
     "execution_count": 69,
     "metadata": {},
     "output_type": "execute_result"
    }
   ],
   "source": [
    "y"
   ]
  },
  {
   "cell_type": "code",
   "execution_count": 70,
   "metadata": {},
   "outputs": [],
   "source": [
    "from sklearn.model_selection import train_test_split\n",
    "\n",
    "X_train, X_test, y_train, y_test = train_test_split(x, y, test_size=0.20)"
   ]
  },
  {
   "cell_type": "code",
   "execution_count": 71,
   "metadata": {},
   "outputs": [],
   "source": [
    "from tensorflow.keras.layers import Dense, LSTM, Dropout, Embedding\n",
    "from tensorflow.keras.models import Sequential"
   ]
  },
  {
   "cell_type": "code",
   "execution_count": 77,
   "metadata": {},
   "outputs": [
    {
     "name": "stdout",
     "output_type": "stream",
     "text": [
      "Model: \"sequential_2\"\n",
      "_________________________________________________________________\n",
      " Layer (type)                Output Shape              Param #   \n",
      "=================================================================\n",
      " embedding_2 (Embedding)     (None, 14, 20)            200000    \n",
      "                                                                 \n",
      " lstm_4 (LSTM)               (None, 14, 150)           102600    \n",
      "                                                                 \n",
      " dropout_2 (Dropout)         (None, 14, 150)           0         \n",
      "                                                                 \n",
      " lstm_5 (LSTM)               (None, 100)               100400    \n",
      "                                                                 \n",
      " dense_2 (Dense)             (None, 10000)             1010000   \n",
      "                                                                 \n",
      "=================================================================\n",
      "Total params: 1413000 (5.39 MB)\n",
      "Trainable params: 1413000 (5.39 MB)\n",
      "Non-trainable params: 0 (0.00 Byte)\n",
      "_________________________________________________________________\n"
     ]
    }
   ],
   "source": [
    "model = Sequential([\n",
    "    Embedding(VOCAB_SIZE, 20, input_length = (MAX_LEN-1)),\n",
    "    LSTM(150,return_sequences=True),\n",
    "    Dropout(0.2),\n",
    "    LSTM(100),\n",
    "    Dense(VOCAB_SIZE, activation = 'softmax')\n",
    "\n",
    "])\n",
    "\n",
    "model.summary()"
   ]
  },
  {
   "cell_type": "code",
   "execution_count": 80,
   "metadata": {},
   "outputs": [],
   "source": [
    "model.compile(optimizer='adam', loss='sparse_categorical_crossentropy', metrics=['accuracy'])"
   ]
  },
  {
   "cell_type": "code",
   "execution_count": 82,
   "metadata": {},
   "outputs": [
    {
     "name": "stdout",
     "output_type": "stream",
     "text": [
      "Epoch 1/50\n"
     ]
    },
    {
     "name": "stdout",
     "output_type": "stream",
     "text": [
      "518/518 [==============================] - 15s 28ms/step - loss: 3.6449 - accuracy: 0.2434 - val_loss: 9.4088 - val_accuracy: 0.1195\n",
      "Epoch 2/50\n",
      "518/518 [==============================] - 15s 28ms/step - loss: 3.6215 - accuracy: 0.2460 - val_loss: 9.4794 - val_accuracy: 0.1215\n",
      "Epoch 3/50\n",
      "518/518 [==============================] - 15s 29ms/step - loss: 3.5963 - accuracy: 0.2509 - val_loss: 9.5295 - val_accuracy: 0.1215\n",
      "Epoch 4/50\n",
      "518/518 [==============================] - 15s 29ms/step - loss: 3.5811 - accuracy: 0.2524 - val_loss: 9.5818 - val_accuracy: 0.1232\n",
      "Epoch 5/50\n",
      "518/518 [==============================] - 15s 28ms/step - loss: 3.5566 - accuracy: 0.2582 - val_loss: 9.6424 - val_accuracy: 0.1241\n",
      "Epoch 6/50\n",
      "518/518 [==============================] - 15s 29ms/step - loss: 3.5319 - accuracy: 0.2591 - val_loss: 9.7322 - val_accuracy: 0.1229\n",
      "Epoch 7/50\n",
      "518/518 [==============================] - 14s 27ms/step - loss: 3.5103 - accuracy: 0.2662 - val_loss: 9.7982 - val_accuracy: 0.1212\n",
      "Epoch 8/50\n",
      "518/518 [==============================] - 13s 26ms/step - loss: 3.4922 - accuracy: 0.2655 - val_loss: 9.8470 - val_accuracy: 0.1215\n",
      "Epoch 9/50\n",
      "518/518 [==============================] - 13s 25ms/step - loss: 3.4663 - accuracy: 0.2701 - val_loss: 9.9275 - val_accuracy: 0.1248\n",
      "Epoch 10/50\n",
      "518/518 [==============================] - 13s 25ms/step - loss: 3.4474 - accuracy: 0.2725 - val_loss: 9.9454 - val_accuracy: 0.1220\n",
      "Epoch 11/50\n",
      "518/518 [==============================] - 14s 27ms/step - loss: 3.4321 - accuracy: 0.2760 - val_loss: 10.0128 - val_accuracy: 0.1220\n",
      "Epoch 12/50\n",
      "518/518 [==============================] - 14s 27ms/step - loss: 3.4059 - accuracy: 0.2774 - val_loss: 10.1017 - val_accuracy: 0.1236\n",
      "Epoch 13/50\n",
      "518/518 [==============================] - 14s 28ms/step - loss: 3.3911 - accuracy: 0.2801 - val_loss: 10.1022 - val_accuracy: 0.1241\n",
      "Epoch 14/50\n",
      "518/518 [==============================] - 14s 26ms/step - loss: 3.3681 - accuracy: 0.2839 - val_loss: 10.1512 - val_accuracy: 0.1181\n",
      "Epoch 15/50\n",
      "518/518 [==============================] - 14s 27ms/step - loss: 3.3502 - accuracy: 0.2881 - val_loss: 10.2282 - val_accuracy: 0.1222\n",
      "Epoch 16/50\n",
      "518/518 [==============================] - 13s 26ms/step - loss: 3.3395 - accuracy: 0.2883 - val_loss: 10.2900 - val_accuracy: 0.1193\n",
      "Epoch 17/50\n",
      "518/518 [==============================] - 13s 25ms/step - loss: 3.3150 - accuracy: 0.2914 - val_loss: 10.3450 - val_accuracy: 0.1227\n",
      "Epoch 18/50\n",
      "518/518 [==============================] - 14s 27ms/step - loss: 3.2918 - accuracy: 0.2966 - val_loss: 10.3873 - val_accuracy: 0.1186\n",
      "Epoch 19/50\n",
      "518/518 [==============================] - 13s 26ms/step - loss: 3.2820 - accuracy: 0.2990 - val_loss: 10.4019 - val_accuracy: 0.1217\n",
      "Epoch 20/50\n",
      "518/518 [==============================] - 14s 27ms/step - loss: 3.2566 - accuracy: 0.3026 - val_loss: 10.5135 - val_accuracy: 0.1236\n",
      "Epoch 21/50\n",
      "518/518 [==============================] - 13s 26ms/step - loss: 3.2361 - accuracy: 0.3057 - val_loss: 10.5306 - val_accuracy: 0.1212\n",
      "Epoch 22/50\n",
      "518/518 [==============================] - 14s 26ms/step - loss: 3.2234 - accuracy: 0.3069 - val_loss: 10.5921 - val_accuracy: 0.1207\n",
      "Epoch 23/50\n",
      "518/518 [==============================] - 14s 27ms/step - loss: 3.2052 - accuracy: 0.3106 - val_loss: 10.6154 - val_accuracy: 0.1198\n",
      "Epoch 24/50\n",
      "518/518 [==============================] - 14s 26ms/step - loss: 3.1890 - accuracy: 0.3146 - val_loss: 10.6789 - val_accuracy: 0.1217\n",
      "Epoch 25/50\n",
      "518/518 [==============================] - 14s 27ms/step - loss: 3.1745 - accuracy: 0.3125 - val_loss: 10.7199 - val_accuracy: 0.1215\n",
      "Epoch 26/50\n",
      "518/518 [==============================] - 15s 29ms/step - loss: 3.1523 - accuracy: 0.3193 - val_loss: 10.7433 - val_accuracy: 0.1239\n",
      "Epoch 27/50\n",
      "518/518 [==============================] - 15s 29ms/step - loss: 3.1341 - accuracy: 0.3217 - val_loss: 10.8231 - val_accuracy: 0.1220\n",
      "Epoch 28/50\n",
      "518/518 [==============================] - 15s 30ms/step - loss: 3.1204 - accuracy: 0.3207 - val_loss: 10.8959 - val_accuracy: 0.1171\n",
      "Epoch 29/50\n",
      "518/518 [==============================] - 15s 30ms/step - loss: 3.1047 - accuracy: 0.3251 - val_loss: 10.9201 - val_accuracy: 0.1193\n",
      "Epoch 30/50\n",
      "518/518 [==============================] - 15s 29ms/step - loss: 3.0822 - accuracy: 0.3290 - val_loss: 10.9917 - val_accuracy: 0.1193\n",
      "Epoch 31/50\n",
      "518/518 [==============================] - 14s 28ms/step - loss: 3.0696 - accuracy: 0.3300 - val_loss: 11.0403 - val_accuracy: 0.1176\n",
      "Epoch 32/50\n",
      "518/518 [==============================] - 14s 28ms/step - loss: 3.0612 - accuracy: 0.3350 - val_loss: 11.0663 - val_accuracy: 0.1193\n",
      "Epoch 33/50\n",
      "518/518 [==============================] - 15s 30ms/step - loss: 3.0433 - accuracy: 0.3370 - val_loss: 11.1039 - val_accuracy: 0.1186\n",
      "Epoch 34/50\n",
      "518/518 [==============================] - 14s 27ms/step - loss: 3.0325 - accuracy: 0.3386 - val_loss: 11.1592 - val_accuracy: 0.1181\n",
      "Epoch 35/50\n",
      "518/518 [==============================] - 14s 27ms/step - loss: 3.0094 - accuracy: 0.3414 - val_loss: 11.2254 - val_accuracy: 0.1222\n",
      "Epoch 36/50\n",
      "518/518 [==============================] - 13s 25ms/step - loss: 2.9972 - accuracy: 0.3450 - val_loss: 11.2272 - val_accuracy: 0.1203\n",
      "Epoch 37/50\n",
      "518/518 [==============================] - 13s 25ms/step - loss: 2.9769 - accuracy: 0.3469 - val_loss: 11.2723 - val_accuracy: 0.1162\n",
      "Epoch 38/50\n",
      "518/518 [==============================] - 13s 26ms/step - loss: 2.9625 - accuracy: 0.3482 - val_loss: 11.3333 - val_accuracy: 0.1227\n",
      "Epoch 39/50\n",
      "518/518 [==============================] - 13s 25ms/step - loss: 2.9540 - accuracy: 0.3505 - val_loss: 11.3553 - val_accuracy: 0.1171\n",
      "Epoch 40/50\n",
      "518/518 [==============================] - 14s 27ms/step - loss: 2.9339 - accuracy: 0.3556 - val_loss: 11.4198 - val_accuracy: 0.1193\n",
      "Epoch 41/50\n",
      "518/518 [==============================] - 13s 26ms/step - loss: 2.9175 - accuracy: 0.3601 - val_loss: 11.4433 - val_accuracy: 0.1198\n",
      "Epoch 42/50\n",
      "518/518 [==============================] - 14s 27ms/step - loss: 2.9031 - accuracy: 0.3580 - val_loss: 11.4876 - val_accuracy: 0.1169\n",
      "Epoch 43/50\n",
      "518/518 [==============================] - 15s 28ms/step - loss: 2.8883 - accuracy: 0.3612 - val_loss: 11.4765 - val_accuracy: 0.1164\n",
      "Epoch 44/50\n",
      "518/518 [==============================] - 15s 28ms/step - loss: 2.8755 - accuracy: 0.3664 - val_loss: 11.6039 - val_accuracy: 0.1193\n",
      "Epoch 45/50\n",
      "518/518 [==============================] - 14s 27ms/step - loss: 2.8584 - accuracy: 0.3690 - val_loss: 11.6461 - val_accuracy: 0.1191\n",
      "Epoch 46/50\n",
      "518/518 [==============================] - 15s 28ms/step - loss: 2.8485 - accuracy: 0.3702 - val_loss: 11.6401 - val_accuracy: 0.1152\n",
      "Epoch 47/50\n",
      "518/518 [==============================] - 14s 27ms/step - loss: 2.8310 - accuracy: 0.3697 - val_loss: 11.6872 - val_accuracy: 0.1178\n",
      "Epoch 48/50\n",
      "518/518 [==============================] - 15s 29ms/step - loss: 2.8213 - accuracy: 0.3763 - val_loss: 11.7487 - val_accuracy: 0.1217\n",
      "Epoch 49/50\n",
      "518/518 [==============================] - 15s 29ms/step - loss: 2.8042 - accuracy: 0.3776 - val_loss: 11.8062 - val_accuracy: 0.1183\n",
      "Epoch 50/50\n",
      "518/518 [==============================] - 16s 30ms/step - loss: 2.7926 - accuracy: 0.3807 - val_loss: 11.7934 - val_accuracy: 0.1166\n"
     ]
    }
   ],
   "source": [
    "history = model.fit(X_train,y_train, epochs=50, validation_data=(X_test, y_test))"
   ]
  },
  {
   "cell_type": "code",
   "execution_count": 151,
   "metadata": {},
   "outputs": [
    {
     "name": "stdout",
     "output_type": "stream",
     "text": [
      "1/1 [==============================] - 0s 13ms/step\n",
      "1/1 [==============================] - 0s 12ms/step\n",
      "1/1 [==============================] - 0s 11ms/step\n",
      "1/1 [==============================] - 0s 11ms/step\n",
      "vale maikadnald pe aa\n"
     ]
    }
   ],
   "source": [
    "## Predict\n",
    "import numpy as np\n",
    "def predict(sentence, next_count):\n",
    "    words = \"\"\n",
    "    predict_sequence = tokenizer.texts_to_sequences([sentence])\n",
    "    \n",
    "    for _ in range(next_count):\n",
    "        \n",
    "        padd_predict_sequence = pad_sequences(predict_sequence, maxlen=MAX_LEN-1)\n",
    "        predictions =np.argmax( model.predict(padd_predict_sequence))\n",
    "        predict_sequence[0].append(predictions)\n",
    "        word  = tokenizer.index_word[predictions]\n",
    "        words += word + \" \"\n",
    "    \n",
    "    print(words.strip())\n",
    "\n",
    "predict('man', 4)\n",
    "    "
   ]
  },
  {
   "cell_type": "code",
   "execution_count": null,
   "metadata": {},
   "outputs": [],
   "source": []
  }
 ],
 "metadata": {
  "kernelspec": {
   "display_name": "tensorflow",
   "language": "python",
   "name": "python3"
  },
  "language_info": {
   "codemirror_mode": {
    "name": "ipython",
    "version": 3
   },
   "file_extension": ".py",
   "mimetype": "text/x-python",
   "name": "python",
   "nbconvert_exporter": "python",
   "pygments_lexer": "ipython3",
   "version": "3.10.13"
  }
 },
 "nbformat": 4,
 "nbformat_minor": 2
}
