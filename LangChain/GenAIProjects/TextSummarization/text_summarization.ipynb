{
 "cells": [
  {
   "cell_type": "code",
   "execution_count": 1,
   "metadata": {},
   "outputs": [
    {
     "data": {
      "text/plain": [
       "True"
      ]
     },
     "execution_count": 1,
     "metadata": {},
     "output_type": "execute_result"
    }
   ],
   "source": [
    "import os\n",
    "from dotenv import load_dotenv\n",
    "load_dotenv()"
   ]
  },
  {
   "cell_type": "code",
   "execution_count": 3,
   "metadata": {},
   "outputs": [],
   "source": [
    "from langchain_groq import ChatGroq\n",
    "groq_api = os.getenv(\"GROQ_API_KEY\")\n",
    "llm = ChatGroq(groq_api_key=groq_api, model=\"Gemma-7b-It\")"
   ]
  },
  {
   "cell_type": "code",
   "execution_count": 8,
   "metadata": {},
   "outputs": [],
   "source": [
    "text = \"\"\"\n",
    "Greeting everyone. Today, I am here to deliver a speech on APJ Abdul Kalam. Dr APJ Abdul Kalam’s full name was Avul Pakir Zainuldeben Abdul Kalam, very few people know him by his full name as he was mostly addressed as ‘Missile Man of India’ and ‘People’s President’. He was born into a very poor family in Rameswaram on October 15, 1931. \n",
    "\n",
    " \n",
    "\n",
    "Since childhood, he enjoyed flying, and was equally curious to know how birds fly in the air? He was very intelligent and enjoyed reading, but his family did not have sufficient income for his school fees, so to support his education, he would wake up early in the morning and ride a bicycle 3 kilometres from home to collect newspapers and sell them. \n",
    "\n",
    "\n",
    "He was admitted to St. Joseph's College, Tiruchirapalli, and later he went on to complete a degree in physics in 1954 and then studied at the Madras Institute of Technology and graduated in aeronautical engineering in 1955. Since his childhood, Dr Abdul Alam wanted to be a pilot but couldn’t make his dream come true. He learned from his mistakes and accomplished numerous achievements in his life. After completing his degree, Abdul Kalam entered the Defense Department of India. He has been one of the key figures in building the nuclear capabilities of India.\n",
    "\n",
    " \n",
    "\n",
    "APJ Abdul Kalam was appointed to the Indian Ministry of Defense as a Technical Advisor in 1992, after which he served with DRDO and ISRO, the country's largest organization. Considered a national hero for successful nuclear tests in 1998, a second successful nuclear test was conducted in Pokhran the same year under his supervision, after which India was included in the list of nuclear-powered nations. Abdul Kalam has been active in all space programs and development programs in India as a scientist. For developing India's Agni missile, Kalam was called 'Missile Man.'Abdul Kalam made a special technological and scientific contribution, for which, along with Bharat Ratna, India's highest honour, he was awarded the Padma Bhushan, Padam Vibhushan, etc. He was also awarded an honorary doctorate by more than 30 universities in the world for the same. \n",
    "\n",
    " \n",
    "\n",
    "In 2002, he was elected President of India and was the country's first scientist and non-political president. He visited many countries during his tenure as President and led India's youth through his lectures and encouraged them to move forward.  ‘My vision for India’ was a Famous Speech of APJ Abdul Kalam delivered at IIT Hyderabad in 2011, and is to this day my favourite speech. His far-reaching thinking gave India's growth a fresh path and became the youth's inspiration. Dr Abdul Kalam died on July 27, 2015, from an apparent cardiac arrest while delivering a lecture at IIM Shillong at the age of 83. He spent his entire life in service and inspiration for the nation and the youth, and his death is also while addressing the youth. His death is a never-ending loss to the country.\n",
    "\"\"\""
   ]
  },
  {
   "cell_type": "code",
   "execution_count": 11,
   "metadata": {},
   "outputs": [],
   "source": [
    "from langchain_core.messages import HumanMessage, AIMessage , SystemMessage\n",
    "\n",
    "chat_message = [\n",
    "    SystemMessage(content=\"You are a expert in summarizing the texts\"),\n",
    "    HumanMessage(content=f\"Please provide the summary of this text : {text}\")\n",
    "]\n"
   ]
  },
  {
   "cell_type": "code",
   "execution_count": 12,
   "metadata": {},
   "outputs": [
    {
     "data": {
      "text/plain": [
       "[SystemMessage(content='You are a expert in summarizing the texts'),\n",
       " HumanMessage(content=\"Please provide the summary of this text : \\nGreeting everyone. Today, I am here to deliver a speech on APJ Abdul Kalam. Dr APJ Abdul Kalam’s full name was Avul Pakir Zainuldeben Abdul Kalam, very few people know him by his full name as he was mostly addressed as ‘Missile Man of India’ and ‘People’s President’. He was born into a very poor family in Rameswaram on October 15, 1931. \\n\\n \\n\\nSince childhood, he enjoyed flying, and was equally curious to know how birds fly in the air? He was very intelligent and enjoyed reading, but his family did not have sufficient income for his school fees, so to support his education, he would wake up early in the morning and ride a bicycle 3 kilometres from home to collect newspapers and sell them. \\n\\n\\nHe was admitted to St. Joseph's College, Tiruchirapalli, and later he went on to complete a degree in physics in 1954 and then studied at the Madras Institute of Technology and graduated in aeronautical engineering in 1955. Since his childhood, Dr Abdul Alam wanted to be a pilot but couldn’t make his dream come true. He learned from his mistakes and accomplished numerous achievements in his life. After completing his degree, Abdul Kalam entered the Defense Department of India. He has been one of the key figures in building the nuclear capabilities of India.\\n\\n \\n\\nAPJ Abdul Kalam was appointed to the Indian Ministry of Defense as a Technical Advisor in 1992, after which he served with DRDO and ISRO, the country's largest organization. Considered a national hero for successful nuclear tests in 1998, a second successful nuclear test was conducted in Pokhran the same year under his supervision, after which India was included in the list of nuclear-powered nations. Abdul Kalam has been active in all space programs and development programs in India as a scientist. For developing India's Agni missile, Kalam was called 'Missile Man.'Abdul Kalam made a special technological and scientific contribution, for which, along with Bharat Ratna, India's highest honour, he was awarded the Padma Bhushan, Padam Vibhushan, etc. He was also awarded an honorary doctorate by more than 30 universities in the world for the same. \\n\\n \\n\\nIn 2002, he was elected President of India and was the country's first scientist and non-political president. He visited many countries during his tenure as President and led India's youth through his lectures and encouraged them to move forward.  ‘My vision for India’ was a Famous Speech of APJ Abdul Kalam delivered at IIT Hyderabad in 2011, and is to this day my favourite speech. His far-reaching thinking gave India's growth a fresh path and became the youth's inspiration. Dr Abdul Kalam died on July 27, 2015, from an apparent cardiac arrest while delivering a lecture at IIM Shillong at the age of 83. He spent his entire life in service and inspiration for the nation and the youth, and his death is also while addressing the youth. His death is a never-ending loss to the country.\\n\")]"
      ]
     },
     "execution_count": 12,
     "metadata": {},
     "output_type": "execute_result"
    }
   ],
   "source": [
    "chat_message"
   ]
  },
  {
   "cell_type": "code",
   "execution_count": 7,
   "metadata": {},
   "outputs": [
    {
     "data": {
      "text/plain": [
       "661"
      ]
     },
     "execution_count": 7,
     "metadata": {},
     "output_type": "execute_result"
    }
   ],
   "source": [
    "llm.get_num_tokens(text)"
   ]
  },
  {
   "cell_type": "code",
   "execution_count": 13,
   "metadata": {},
   "outputs": [
    {
     "name": "stderr",
     "output_type": "stream",
     "text": [
      "/Users/tanweersalah/anaconda3/envs/langchain/lib/python3.10/site-packages/langchain_core/_api/deprecation.py:139: LangChainDeprecationWarning: The method `BaseChatModel.__call__` was deprecated in langchain-core 0.1.7 and will be removed in 0.3.0. Use invoke instead.\n",
      "  warn_deprecated(\n",
      "huggingface/tokenizers: The current process just got forked, after parallelism has already been used. Disabling parallelism to avoid deadlocks...\n",
      "To disable this warning, you can either:\n",
      "\t- Avoid using `tokenizers` before the fork if possible\n",
      "\t- Explicitly set the environment variable TOKENIZERS_PARALLELISM=(true | false)\n"
     ]
    },
    {
     "data": {
      "text/plain": [
       "AIMessage(content='## Summary:\\n\\n**APJ Abdul Kalam: The Visionary Scientist and President**\\n\\nAPJ Abdul Kalam, revered as the \"Missile Man of India,\" was a towering figure in India\\'s scientific and technological advancements. Born in a humble background, he overcame adversity to become a renowned scientist, engineer, and president.\\n\\n**Early Life and Education:**\\n\\n- Kalam displayed an early fascination for flight and birds.\\n- Despite financial challenges, he pursued studies in physics and aeronautical engineering.\\n- He dreamt of becoming a pilot but could not fulfill that ambition.\\n\\n**Scientific Achievements:**\\n\\n- Played a pivotal role in India\\'s nuclear program and was instrumental in its first successful nuclear tests.\\n- Led various space missions and technological developments.\\n- Developed the Agni missile, earning him the title \"Missile Man.\"\\n\\n**Presidency and Vision:**\\n\\n- Became the first scientist and non-political president of India in 2002.\\n- Inspired the nation with his vision for India\\'s growth and encouraged youth to contribute to its progress.\\n\\n**Legacy and Impact:**\\n\\n- Known for his humble nature, inspiring leadership, and vast contributions to science and technology.\\n- His vision and guidance continue to shape India\\'s trajectory.\\n- His untimely demise in 2015 mourned as a loss to the nation and the world.', response_metadata={'token_usage': {'completion_tokens': 278, 'prompt_tokens': 696, 'total_tokens': 974, 'completion_time': 0.320953861, 'prompt_time': 0.409515324, 'queue_time': None, 'total_time': 0.730469185}, 'model_name': 'Gemma-7b-It', 'system_fingerprint': 'fp_7d8efeb0b1', 'finish_reason': 'stop', 'logprobs': None}, id='run-ed259112-33eb-4b6d-aa96-6319ebde51af-0', usage_metadata={'input_tokens': 696, 'output_tokens': 278, 'total_tokens': 974})"
      ]
     },
     "execution_count": 13,
     "metadata": {},
     "output_type": "execute_result"
    }
   ],
   "source": [
    "llm(chat_message)"
   ]
  },
  {
   "cell_type": "markdown",
   "metadata": {},
   "source": [
    "## Using LLM Chain"
   ]
  },
  {
   "cell_type": "code",
   "execution_count": 47,
   "metadata": {},
   "outputs": [],
   "source": [
    "from langchain.chains import LLMChain\n",
    "from langchain import PromptTemplate\n",
    "\n",
    "template = \"\"\"\n",
    "Please provide the summary of this speech in {language} : \n",
    "\n",
    "speech : {text} , \n",
    "\n",
    "\n",
    "\n",
    "\"\"\"\n",
    "\n",
    "prompt = PromptTemplate(input_variable = [\"text\", \"language\" ], template = template)"
   ]
  },
  {
   "cell_type": "code",
   "execution_count": 48,
   "metadata": {},
   "outputs": [
    {
     "data": {
      "text/plain": [
       "PromptTemplate(input_variables=['language', 'text'], template='\\nPlease provide the summary of this speech in {language} : \\n\\nspeech : {text} , \\n\\n\\n\\n')"
      ]
     },
     "execution_count": 48,
     "metadata": {},
     "output_type": "execute_result"
    }
   ],
   "source": [
    "prompt"
   ]
  },
  {
   "cell_type": "code",
   "execution_count": 49,
   "metadata": {},
   "outputs": [
    {
     "data": {
      "text/plain": [
       "\"\\nPlease provide the summary of this speech in hindi : \\n\\nspeech : \\nGreeting everyone. Today, I am here to deliver a speech on APJ Abdul Kalam. Dr APJ Abdul Kalam’s full name was Avul Pakir Zainuldeben Abdul Kalam, very few people know him by his full name as he was mostly addressed as ‘Missile Man of India’ and ‘People’s President’. He was born into a very poor family in Rameswaram on October 15, 1931. \\n\\n \\n\\nSince childhood, he enjoyed flying, and was equally curious to know how birds fly in the air? He was very intelligent and enjoyed reading, but his family did not have sufficient income for his school fees, so to support his education, he would wake up early in the morning and ride a bicycle 3 kilometres from home to collect newspapers and sell them. \\n\\n\\nHe was admitted to St. Joseph's College, Tiruchirapalli, and later he went on to complete a degree in physics in 1954 and then studied at the Madras Institute of Technology and graduated in aeronautical engineering in 1955. Since his childhood, Dr Abdul Alam wanted to be a pilot but couldn’t make his dream come true. He learned from his mistakes and accomplished numerous achievements in his life. After completing his degree, Abdul Kalam entered the Defense Department of India. He has been one of the key figures in building the nuclear capabilities of India.\\n\\n \\n\\nAPJ Abdul Kalam was appointed to the Indian Ministry of Defense as a Technical Advisor in 1992, after which he served with DRDO and ISRO, the country's largest organization. Considered a national hero for successful nuclear tests in 1998, a second successful nuclear test was conducted in Pokhran the same year under his supervision, after which India was included in the list of nuclear-powered nations. Abdul Kalam has been active in all space programs and development programs in India as a scientist. For developing India's Agni missile, Kalam was called 'Missile Man.'Abdul Kalam made a special technological and scientific contribution, for which, along with Bharat Ratna, India's highest honour, he was awarded the Padma Bhushan, Padam Vibhushan, etc. He was also awarded an honorary doctorate by more than 30 universities in the world for the same. \\n\\n \\n\\nIn 2002, he was elected President of India and was the country's first scientist and non-political president. He visited many countries during his tenure as President and led India's youth through his lectures and encouraged them to move forward.  ‘My vision for India’ was a Famous Speech of APJ Abdul Kalam delivered at IIT Hyderabad in 2011, and is to this day my favourite speech. His far-reaching thinking gave India's growth a fresh path and became the youth's inspiration. Dr Abdul Kalam died on July 27, 2015, from an apparent cardiac arrest while delivering a lecture at IIM Shillong at the age of 83. He spent his entire life in service and inspiration for the nation and the youth, and his death is also while addressing the youth. His death is a never-ending loss to the country.\\n , \\n\\n\\n\\n\""
      ]
     },
     "execution_count": 49,
     "metadata": {},
     "output_type": "execute_result"
    }
   ],
   "source": [
    "prompt.format(text = text, language = 'hindi')"
   ]
  },
  {
   "cell_type": "code",
   "execution_count": 50,
   "metadata": {},
   "outputs": [],
   "source": [
    "llm_chain = LLMChain(llm=llm, prompt= prompt)"
   ]
  },
  {
   "cell_type": "code",
   "execution_count": 51,
   "metadata": {},
   "outputs": [
    {
     "data": {
      "text/plain": [
       "'**सुसंगठित भाषण का सार**\\n\\nप्रस्तुत भाषण में APJ अबुल कलम के बारे में बता गया है। वे एक निरंत प्रेरणा और विद्यार्थी के लिए एक प्रेरणा बन रहे रहे।\\n\\n**जीवन और शिक्षा**\\n\\n* APJ अबुल कलम 1931 में रमेश्वरम में एक गरीब परिवार में जन्मा।\\n* उन्हें स्कूल के शुल्क का भुगतान करने के लिए रात में पेड़ और समाचारपत्रों को बेचना पड़ना पड़ता था।\\n* वे 1954 में भौतिकी में डिग्री प्राप्त करने और 1955 में विमानन अभियानिकी में डिग्री प्राप्त करने के लिए मद्रास इन्स्टिट्यूट ऑफ़ टेक्नोलॉजी से पढ़े।\\n\\n**व्यवसायिक सफर और उपलब्धियों**\\n\\n* कलम ने भारत के रक्षा विभाग में शामिल होकर कई महत्वपूर्ण उपलब्धियों में शामिल हो गए।\\n* 1998 में, उन्हें भारत के पहले परमाणुक परीक्षणों के सफल होने का क्रेडिट दिया गया।\\n* वे भारत के प्रणौतिक क्षमता के मुख्य व्यक्ति बन गए।\\n\\n**राष्ट्रपति बनना और वक्तव्य**\\n\\n* 2002 में, उन्हें भारत के राष्ट्रपति बनने का अवसर मिला।\\n* वे राष्ट्र के पहले विद्यार्थी और वैज्ञानिक राष्ट्रपति बन गए।\\n\\n**मृत्यु और विरासत**\\n\\n* 2015 में, 83 वर्ष की आयु में शिलोंग के IIM पर एक वक्तव्य के दौरान कार्डियारarrest के कारण मृत्यु हुई।\\n* उनके जीवन और विचारों ने राष्ट्र और वकालतियों को प्रेरणा दे दिया।'"
      ]
     },
     "execution_count": 51,
     "metadata": {},
     "output_type": "execute_result"
    }
   ],
   "source": [
    "llm_chain.run({\n",
    "    'text' : text,\n",
    "    'language' : 'hindi'\n",
    "})"
   ]
  },
  {
   "cell_type": "markdown",
   "metadata": {},
   "source": [
    "## Stuff Document Chain"
   ]
  },
  {
   "cell_type": "code",
   "execution_count": 52,
   "metadata": {},
   "outputs": [],
   "source": [
    "\n"
   ]
  },
  {
   "cell_type": "code",
   "execution_count": 53,
   "metadata": {},
   "outputs": [],
   "source": []
  },
  {
   "cell_type": "code",
   "execution_count": 54,
   "metadata": {},
   "outputs": [
    {
     "name": "stderr",
     "output_type": "stream",
     "text": [
      "USER_AGENT environment variable not set, consider setting it to identify your requests.\n"
     ]
    }
   ],
   "source": [
    "from langchain_community.document_loaders import WebBaseLoader\n",
    "web_loader = WebBaseLoader(web_path=\"https://www.vedantu.com/english/apj-abdul-kalam-speech\")"
   ]
  },
  {
   "cell_type": "code",
   "execution_count": 57,
   "metadata": {},
   "outputs": [],
   "source": [
    "speech_doc = web_loader.load()"
   ]
  },
  {
   "cell_type": "code",
   "execution_count": 82,
   "metadata": {},
   "outputs": [
    {
     "data": {
      "text/plain": [
       "\"APJ Abdul Kalam Speech in English For Students Sign InCoursesExplore all Vedantu courses by class or target exam, starting at ₹1350Long Term CoursesFull Year Courses Starting @ just\\nRs 9000One-to-one LIVE classesLearn one-to-one with a teacher for a personalised experienceCourses for KidsFind courses by classStarting @ ₹1,350Find courses by targetStarting @ ₹1,350Courses for KidsConfidence-building & personalised learning courses for Class LKG-8 studentsEnglish SuperstarAge 4 - 8Level based holistic English programSpoken EnglishClass 3 - 5See your child speak fluentlyLearn MathsClass 1 and 2Turn your child into a Math wizardFree study materialGet class-wise, author-wise, & board-wise free study material for exam preparationNCERT SolutionsCBSEJEE MainJEE AdvancedNEETQuestion and AnswersPopular Book SolutionsSubject wise ConceptsICSE & State Boards Kids ConceptOnline TuitionCompetative Exams and OthersOffline CentresMuzaffarpur Coaching CentreChennai Coaching CentreBangalore Coaching CentrePatiala Coaching CentreDelhi Coaching CentreHyderabad Coaching CentreVijayawada Coaching CentreVishakhapatnam Coaching CentreTiruchirapalli Coaching CentreMadurai Coaching CentreCoimbatore Coaching CentrePune Coaching CentreNagpur Coaching CentreGuntur Coaching CentreAurangabad Coaching CentreRaipur Coaching CentreBhilai Coaching CentreBilaspur Coaching CentreSrinagar Coaching CentreJammu Coaching CentreBhubaneswar Coaching CentreJhunjhunu Coaching CentreOnline TuitionGet class-wise, subject-wise, & location-wise online tuition for exam preparationOnline Tuition By ClassOnline Tuition By SubjectOnline Tuition By LocationMoreKnow about our results, initiatives, resources, events, and much moreOur resultsA celebration of all our success storiesChild safetyCreating a safe learning environment for every childHelp India LearnHelps in learning for Children affected by\\n    the PandemicWAVEHighly-interactive classroom that makes\\n    learning funVedantu Improvement Promise (VIP)We guarantee improvement in school and\\n    competitive examsMaster talksHeartfelt and insightful conversations\\n    with super achieversOur initiativesResourcesAbout usKnow more about our passion to\\n      revolutionise online educationCareersCheck out the roles we're currently\\n      hiring forBecome a teacherApply now to join the team of passionate\\n      teachersContact usGot questions? Please get in touch with usVedantu StoreAPJ Abdul Kalam SpeechEnglishAPJ Abdul Kalam SpeechReviewed by:Aiswarya IttianathLast updated date: 27th Jul 2024•Total views: 378.9k•Views today: 3.78kDownload PDFNCERT SolutionsNCERT Solutions for Class 12NCERT Solutions for Class 11NCERT Solutions for Class 10NCERT Solutions for class 9NCERT Solutions for class 8NCERT Solutions for class 7NCERT Solutions for class 6NCERT Solutions for class 5NCERT Solutions for class 4NCERT Solutions for Class 3NCERT Solutions for Class 2NCERT Solutions for Class 1CBSECBSE class 3CBSE class 4CBSE class 5CBSE class 6CBSE class 7CBSE class 8CBSE class 9CBSE class 10CBSE class 11CBSE class 12NCERTCBSE Study MaterialCBSE Sample PapersCBSE SyllabusCBSE Previous Year Question PaperCBSE Important QuestionsMarking SchemeTextbook SolutionsRD Sharma SolutionsLakhmir Singh SolutionsHC Verma SolutionsTS Grewal SolutionsDK Goel SolutionsNCERT Exemplar SolutionsCBSE NotesCBSE Notes for class 12CBSE Notes for class 11CBSE Notes for class 10CBSE Notes for class 9CBSE Notes for class 8CBSE Notes for class 7CBSE Notes for class 6Long and Short APJ Abdul Kalam Speech In SchoolTo the people of India, Dr APJ Abdul Kalam is no less than an inspiration. People had a great deal of admiration for him and addressed him as Sir APJ Abdul Kalam. This article consists of 3 types of APJ Abdul Kalam Speech In English For Students. The first one is a Long APJ Abdul Kalam Speech meant for students of class 9th and above. The second one is the usually spoken APJ Abdul Kalam Speech In School for students of class 5th and above while the third one is 10 lines About Abdul Kalam Speech for students of Class 1 and above for easier understanding.\\n\\nLong APJ Abdul Kalam Speech In English For StudentsGreeting everyone. Today, I am here to deliver a speech on APJ Abdul Kalam. Dr APJ Abdul Kalam’s full name was Avul Pakir Zainuldeben Abdul Kalam, very few people know him by his full name as he was mostly addressed as ‘Missile Man of India’ and ‘People’s President’. He was born into a very poor family in Rameswaram on October 15, 1931.\\xa0\\xa0Since childhood, he enjoyed flying, and was equally curious to know how birds fly in the air? He was very intelligent and enjoyed reading, but his family did not have sufficient income for his school fees, so to support his education, he would wake up early in the morning and ride a bicycle 3 kilometres from home to collect newspapers and sell them.\\xa0He was admitted to St. Joseph's College, Tiruchirapalli, and later he went on to complete a degree in physics in 1954 and then studied at the Madras Institute of Technology and graduated in aeronautical engineering in 1955. Since his childhood, Dr Abdul Alam wanted to be a pilot but couldn’t make his dream come true. He learned from his mistakes and accomplished numerous achievements in his life. After completing his degree, Abdul Kalam entered the Defense Department of India. He has been one of the key figures in building the nuclear capabilities of India.\\xa0APJ Abdul Kalam was appointed to the Indian Ministry of Defense as a Technical Advisor in 1992, after which he served with DRDO and ISRO, the country's largest organization. Considered a national hero for successful nuclear tests in 1998, a second successful nuclear test was conducted in Pokhran the same year under his supervision, after which India was included in the list of nuclear-powered nations. Abdul Kalam has been active in all space programs and development programs in India as a scientist. For developing India's Agni missile, Kalam was called 'Missile Man.'Abdul Kalam made a special technological and scientific contribution, for which, along with Bharat Ratna, India's highest honour, he was awarded the Padma Bhushan, Padam Vibhushan, etc. He was also awarded an honorary doctorate by more than 30 universities in the world for the same.\\xa0\\xa0In 2002, he was elected President of India and was the country's first scientist and non-political president. He visited many countries during his tenure as President and led India's youth through his lectures and encouraged them to move forward.\\xa0 ‘My vision for India’ was a Famous Speech of APJ Abdul Kalam delivered at IIT Hyderabad in 2011, and is to this day my favourite speech. His far-reaching thinking gave India's growth a fresh path and became the youth's inspiration. Dr Abdul Kalam died on July 27, 2015, from an apparent cardiac arrest while delivering a lecture at IIM Shillong at the age of 83. He spent his entire life in service and inspiration for the nation and the youth, and his death is also while addressing the youth. His death is a never-ending loss to the country.\\n\\nShort APJ Abdul Kalam Speech In English For StudentsToday, I am here to deliver a speech on Dr APJ Abdul Kalam. APJ Abdul Kalam was born to Jainulabdeen and Ashiamma on October 15, 1931. His father was a boat owner and his mother was a homemaker. His family's economic situation was not strong, so at an early age, he began helping his family financially.He graduated in 1955 from the Madras Institute of Technology and graduated from St. Joseph's College, Tiruchirappalli, in Aerospace Engineering. He joined the Defense Research and Development Organization's (DRDO) Aeronautical Development Base as a Chief Scientist after his graduation. He won credit as Project Director-General for making India's first indigenous satellite (SLV III) rocket. It was his ultimate support that brought nuclear power to India. In July 1992, he was appointed Scientific Advisor to the Indian Ministry of Defence. As a national counsellor, he played a significant role in the world-famous nuclear tests at Pokhran II. In 1981, he was awarded the Padma Bhushan Award, in 1909 the Padma Vibhushan, and in 1997 the highest civilian award of India' Bharat Ratna 'for modernizing the defence technology of India and his outstanding contribution.\\xa0From July 25, 2002 - July 25, 2007, he served as President of India, becoming famous among Indians and receiving a lot of attention from Indian youth. He became popular as the People's President. Kalam worked as a professor, chancellor, and assistant at many institutions after leaving office. He experienced serious cardiac arrest on the evening of July 27, 2015, and fell unconscious and died 2 hours later.In 1999, Kalam published his autobiography and a book called The Wings of Fire. He has written many other books that are useful to the people of every generation.\\n\\n10 Lines About Abdul Kalam SpeechHere are 10 lines from Abdul Kalam Inspirational Speech for Students, so that kids from classes 1, 2, and 3 can easily understand and form their speeches and get to know about APJ Abdul Kalam.APJ Abdul Kalam’s full name is Avul Pakir Jainulabdeen Abdul Kalam .He was born in Rameswaram, Tamil Nadu, on October 15th, 1931.Kalam had been selling newspapers to support the income of his family.In 1960, he studied aeronautical engineering at the Madras Institute of Technology.His dream as a child was to become a fighter pilot.After graduation, he entered the Defense Research and Development Organization (DRDO) as a scientist.In 1969, he joined the Organization of Indian Space Research (ISRO).Kalam Sir served as the Polar Satellite Launch Vehicle III Project Director (PSLV III).His expertise in space science made him known as 'Missile Man of India’.'He was the 11th President of India. On July 27th, 2015, he took his last breath.Recently Updated PagesSummary of Bringing up KariEnglish Grammar for Kids: Vowels and ConsonantsQuestion Mark – Definition, Rules and How to useFull Stop – Origin, Meaning, Uses, Examples and FAQsCapital Letters – Definition, Uses, Rule and ExamplesOrder of Words in a Sentence - Meaning, Types, and FAQsSummary of Bringing up KariEnglish Grammar for Kids: Vowels and ConsonantsQuestion Mark – Definition, Rules and How to useFull Stop – Origin, Meaning, Uses, Examples and FAQsCapital Letters – Definition, Uses, Rule and ExamplesOrder of Words in a Sentence - Meaning, Types, and FAQs12Trending topicsOpposite Words for Class 1Animals Sound in English for KidsFestivals of India EssayPet Animals NamesFamily Picnic EssayRole of Youth in Nation Building EssayNames of Days in English for KidsIndia Independence Day Speech in English: Azadi Ka Amri...Body Parts Name and Functions for KidsOpposite Words for Class 1Animals Sound in English for KidsFestivals of India EssayPet Animals NamesFamily Picnic EssayRole of Youth in Nation Building EssayNames of Days in English for KidsIndia Independence Day Speech in English: Azadi Ka Amri...Body Parts Name and Functions for Kids123Other PagesNo Men are Foreign SummaryMy Childhood SummarySpeech on Impact of Cinema in LifeReported SpeechMerchant of  Venice SummaryAn Essay On Renown Poet Rabindranath TagoreNo Men are Foreign SummaryMy Childhood SummarySpeech on Impact of Cinema in LifeReported SpeechMerchant of  Venice SummaryAn Essay On Renown Poet Rabindranath Tagore12FAQs on APJ Abdul Kalam Speech1. Where can I get a speech written about APJ Abdul Kalam?The students can find speeches on different influential personalities at Vedantu. At Vedantu, all a student has to do is sign in and they get unlimited access to limitless study material in PDF format or in plain text which helps them to boost their progress at a steady rate. You can also download free PDFs of your class subjects at Vedantu which are easy to understand and use. The students can find the speech on APJ Abdul Kalam at Vedantu and can easily use it at your convenience.2. Why should I know about APJ Abdul Kalam in English?The students should know about the different personalities who have brought respect and fame to our country. One such personality was Mr APJ Abdul Kalam who was not only a brilliant scientist but also the esteemed president of India. There are many accomplishments to his name which is something everyone should know. This helps in general knowledge questions and draws inspiration into the minds of students. It is also necessary for students to represent this information on paper in the form of writing. This helps them to enhance their English.3. How long should the APJ Abdul Kalam Speech in English For Students be?The students can write or present the speeches in three different ways. These are either a 10 line speech, short speech or a long speech. The 10 line speech is for students who are from the age group 5-8 which is very easy to understand. The next type is the short speech which a student from 5th grade and above can easily remember and understand. The third speech is the long speech which is for the students of class 9th and above. The long speech is written in a simple tone so that although long, the speech can be memorised easily without any alterations.4. Is it hard to memorise the APJ Abdul Kalam Speech in English For Students?The students can easily remember the words and tone of the APJ Abdul Kalam speech in English provided by Vedantu. This speech is written in such a manner that every student can have each word at the tip of their tongue. It is recommended that students revise their lines one by one by writing after they have done practising it. If a student can present the speech in front of someone else then they have already attained half progress. The rest half depends on whether you can write the speech in the same way without any problems arising or not.5. Is it important to greet people at the beginning of APJ Abdul Kalam Speech in English?The students must greet everyone present at the beginning of the speech. A speech has a written format where first you have to write an introductory paragraph, but even before that, you should always focus on writing a proper salutation paragraph. This indicates that the student has read the format and knows the basic principles of English writing skills. This is important for every student who wishes to score good marks in English written exams.Students Also ReadAPJ Abdul Kalam EssayDr. A P J Abdul Kalam Biography10 Lessons from APJ Abdul Kalam for StudentsAPJ Abdul Kalam Full FormWrite a short biography of Dr APJ Abdul Kalam under class 8 english CBSEWrite a short biography of Dr APJ Abdul Kalam under class 5 CBSESome Inspiring Quotes from Kalam you May Not KnowWhat do you know about APJ Abdul Kalams family after class 9 english CBSEWhat do you know about APJ Abdul Kalams family after class 9 english CBSEWhat characteristics did Abdul Kalam inherit from his class 7 english CBSEStudy materialNCERTNCERTNCERT SolutionsNCERT Solutions for Class 12NCERT Solutions for Class 12 MathsNCERT Solutions for Class 12 PhysicsNCERT Solutions for Class 12 ChemistryNCERT Solutions for Class 12 BiologyNCERT Solutions for Class 12 Business StudiesNCERT Solutions for Class 12 EconomicsNCERT Solutions for Class 12 AccountancyNCERT Solutions for Class 12 EnglishNCERT Solutions for Class 12 HindiNCERT Solutions for Class 11NCERT Solutions for Class 11 MathsNCERT Solutions for Class 11 PhysicsNCERT Solutions for Class 11 ChemistryNCERT Solutions for Class 11 BiologyNCERT Solutions for Class 11 Business StudiesNCERT Solutions for Class 11 EconomicsNCERT Solutions for Class 11 AccountancyNCERT Solutions for Class 11 EnglishNCERT Solutions for Class 11 HindiNCERT Solutions for Class 10NCERT Solutions for Class 10 MathsNCERT Solutions for Class 10 ScienceNCERT Solutions for Class 10 EnglishNCERT Solutions for Class 10 Social ScienceNCERT Solutions for Class 10 HindiNCERT Solutions for Class 9NCERT Solutions for Class 9 MathsNCERT Solutions for Class 9 ScienceNCERT Solutions for Class 9 EnglishNCERT Solutions for Class 9 Social ScienceNCERT Solutions for Class 9 HindiNCERT Solutions for Class 8NCERT Solutions for Class 8 MathsNCERT Solutions for Class 8 ScienceNCERT Solutions for Class 8 EnglishNCERT Solutions for Class 8 Social ScienceNCERT Solutions for Class 8 HindiNCERT BooksNCERT Books Class 12NCERT Books Class 11NCERT Books Class 10NCERT Books Class 9NCERT Books Class 8Reference book solutionsReference Book SolutionsHC Verma SolutionsRD Sharma SolutionsRS Aggarwal SolutionsNCERT Exemplar SolutionsLakhmir Singh SolutionsDK Goel SolutionsTS Grewal  SolutionsSandeep GargCompetitive ExamsCompetitive ExamsJEE MainJEE AdvancedNEETOlympiad PreparationNDAKVPYNTSECBSECBSECBSE SyllabusCBSE Sample PaperCBSE WorksheetsCBSE Important QuestionsCBSE Previous Year Question Papers Class 12CBSE Previous Year Question Papers Class 10CBSE Important FormulasICSEICSEICSE SolutionsICSE Class 10 SolutionsICSE Class 9 SolutionsICSE Class 8 Solutions State boardsState BoardsAP BoardBihar BoardGujarat BoardKarnataka BoardKerala BoardMaharashtra BoardMP BoardRajasthan BoardTelangana BoardTN BoardUP BoardWB BoardFree Study MaterialFree Study MaterialPrevious Year Question PapersSample PapersJEE Main Study MaterialsJEE Advanced Study MaterialsNEET Study MaterialsOlympiad Study MaterialsKids LearningAsk QuestionsImportant SubjectsPhysicsBiologyChemistryMathsEnglishCommerceGeographyCivicsRevision NotesRevision NotesCBSE Class 12 NotesCBSE Class 11 NotesCBSE Class 10 NotesCBSE Class 9 NotesCBSE Class 8 Notes JEE MAINJEE MainJEE Main Important QuestionsJEE Main Important ChaptersJEE Main NotesJEE Main FormulasJEE Main Difference betweenJEE Main SyllabusJEE Main Physics SyllabusJEE Main Mathematics SyllabusJEE Main Chemistry SyllabusJEE Main Previous Year Question PaperJEE ADVANCEDJEE AdvancedJEE Advanced Important QuestionsJEE Advanced Important ChaptersJEE Advanced NotesJEE Advanced FormulasJEE Advanced Difference betweenJEE Advanced SyllabusJEE Advanced Physics SyllabusJEE Advanced Mathematics SyllabusJEE Advanced Chemistry SyllabusJEE Advanced Previous Year Question Paper NEETNEETNEET Important QuestionsNEET Important ChaptersNEET NotesNEET DiagramsNEET Difference betweenNEET SyllabusNEET Physics SyllabusNEET Chemistry SyllabusNEET Biology SyllabusNEET Previous Year Question Paper OFFLINE CENTRESMuzaffarpurChennaiBangalorePatialaDelhiHyderabadVijayawadaVisakhapatnamTiruchirapalliMadurai CoimbatorePuneNagpurGunturAurangabadRaipurBhilaiBilaspurSrinagarJammuBhubaneswarJhunjhunu © 2024.Vedantu.com. All rights reservedPrivacy policyTerms and conditions\""
      ]
     },
     "execution_count": 82,
     "metadata": {},
     "output_type": "execute_result"
    }
   ],
   "source": [
    "speech_doc[0].page_content"
   ]
  },
  {
   "cell_type": "code",
   "execution_count": 66,
   "metadata": {},
   "outputs": [],
   "source": [
    "from langchain_text_splitters import RecursiveCharacterTextSplitter\n",
    "\n",
    "spliter = RecursiveCharacterTextSplitter(chunk_size = 2000, chunk_overlap= 50)"
   ]
  },
  {
   "cell_type": "code",
   "execution_count": 68,
   "metadata": {},
   "outputs": [],
   "source": [
    "documents = spliter.split_documents(speech_doc)"
   ]
  },
  {
   "cell_type": "code",
   "execution_count": 69,
   "metadata": {},
   "outputs": [],
   "source": []
  },
  {
   "cell_type": "code",
   "execution_count": 71,
   "metadata": {},
   "outputs": [],
   "source": [
    "template = \"\"\"\n",
    "Please provide the summary of this speech : \n",
    "\n",
    "speech : {text} , \n",
    "\n",
    "\n",
    "\n",
    "\"\"\"\n",
    "\n",
    "prompt = PromptTemplate(input_variable = [\"text\"], template = template)"
   ]
  },
  {
   "cell_type": "code",
   "execution_count": 73,
   "metadata": {},
   "outputs": [
    {
     "data": {
      "text/plain": [
       "'**Summary:**\\n\\nThe speech highlights the inspiring life and achievements of APJ Abdul Kalam, one of India\\'s most revered scientists and former President.\\n\\n**Key Points:**\\n\\n* **Early Life and Dreams:** Kalam\\'s humble beginnings, his passion for flying, and his determination to become a pilot.\\n\\n\\n* **Scientific Achievements:** Kalam\\'s remarkable contributions to India\\'s nuclear and space programs, earning him the title \"Missile Man.\"\\n\\n\\n* **Leadership and Vision:** Kalam\\'s role as President, his inspiring speeches, and his guidance to the youth.\\n\\n\\n* **Legacy and Inspiration:** Kalam\\'s enduring legacy as a role model, inspiring generations to pursue their dreams and contribute to nation-building.\\n\\n\\n**Main Theme:**\\n\\nThe speech emphasizes the importance of vision, determination, and the power of an individual to make a difference in the world.\\n\\n**Target Audience:**\\n\\nThe speech is primarily intended for students, encouraging them to learn from Kalam\\'s example and become responsible citizens.\\n\\n**Call to Action:**\\n\\nThe speech concludes by urging listeners to follow Kalam\\'s principles and strive to achieve greatness in their lives.'"
      ]
     },
     "execution_count": 73,
     "metadata": {},
     "output_type": "execute_result"
    }
   ],
   "source": [
    "from langchain.chains.summarize import load_summarize_chain\n",
    "chain = load_summarize_chain(llm=llm , chain_type='stuff', prompt= prompt)\n",
    "chain.run(documents)"
   ]
  },
  {
   "cell_type": "markdown",
   "metadata": {},
   "source": [
    "## Map Reduce Chain"
   ]
  },
  {
   "cell_type": "code",
   "execution_count": 76,
   "metadata": {},
   "outputs": [],
   "source": [
    "final_template = \"\"\" \n",
    "Provide final summary with these points.\n",
    "Add a Title, ad bullet points\n",
    "\n",
    "Speech : {text}\n",
    "\"\"\"\n",
    "\n",
    "final_prompt = PromptTemplate(input_variables=['text'],template=final_template)\n"
   ]
  },
  {
   "cell_type": "code",
   "execution_count": 77,
   "metadata": {},
   "outputs": [
    {
     "name": "stderr",
     "output_type": "stream",
     "text": [
      "Token indices sequence length is longer than the specified maximum sequence length for this model (1232 > 1024). Running this sequence through the model will result in indexing errors\n"
     ]
    },
    {
     "data": {
      "text/plain": [
       "\"## Speech Summary\\n\\n**Title: APJ Abdul Kalam: The Visionary Scientist and Former President of India**\\n\\n**Summary:**\\n\\nThe speech celebrates the remarkable life and legacy of APJ Abdul Kalam, a visionary scientist, engineer, and former President of India. It highlights his humble beginnings, his groundbreaking contributions to India's scientific progress, and his inspiring leadership qualities.\\n\\n**Key Points:**\\n\\n- Kalam's early life and determination to pursue his dreams.\\n- His significant contributions to India's nuclear program and space exploration.\\n- His leadership in developing India's first satellite launch vehicle (SLV III) rocket.\\n- His humble demeanor and inspiring leadership qualities.\\n- His vision for nation-building and his guidance to the youth.\\n\\n**Additional Elements:**\\n\\n- The speech emphasizes the importance of innovation and progress.\\n- It quotes Kalam's inspiring words and anecdotes that illustrate his character and vision.\\n- The speech concludes with a call to action, encouraging listeners to follow Kalam's example and contribute to nation-building.\\n\\n**Note:** The provided text does not contain the actual speech transcript, so the summary is based on the information provided in the text.\""
      ]
     },
     "execution_count": 77,
     "metadata": {},
     "output_type": "execute_result"
    }
   ],
   "source": [
    "map_reduce_chain = load_summarize_chain(llm=llm , chain_type='map_reduce', map_prompt= prompt , combine_prompt = final_prompt )\n",
    "map_reduce_chain.run(documents)"
   ]
  },
  {
   "cell_type": "markdown",
   "metadata": {},
   "source": [
    "## Refine Chain"
   ]
  },
  {
   "cell_type": "code",
   "execution_count": 78,
   "metadata": {},
   "outputs": [
    {
     "data": {
      "text/plain": [
       "'## Refined Summary:\\n\\nAPJ Abdul Kalam, a visionary scientist and statesman, rose from humble beginnings to become the \"Missile Man of India.\" Driven by an insatiable curiosity and unwavering determination, he revolutionized India\\'s strides in nuclear technology and space exploration. Beyond his remarkable scientific accomplishments, Kalam was a gifted communicator, captivating audiences with his motivational speeches.\\n\\nHis presidency from 2002 to 2007 was marked by a focus on education and empowering the youth. Guided by a deep-seated patriotism and social responsibility, honed by his family upbringing, Kalam displayed unwavering leadership and a commitment to serving the nation. His extraordinary journey and inspiring spirit continue to motivate generations to reach their full potential.'"
      ]
     },
     "execution_count": 78,
     "metadata": {},
     "output_type": "execute_result"
    }
   ],
   "source": [
    "refine_chain = load_summarize_chain(llm=llm, chain_type=\"refine\")\n",
    "refine_chain.run(documents)"
   ]
  },
  {
   "cell_type": "code",
   "execution_count": null,
   "metadata": {},
   "outputs": [],
   "source": []
  }
 ],
 "metadata": {
  "kernelspec": {
   "display_name": "langchain",
   "language": "python",
   "name": "python3"
  },
  "language_info": {
   "codemirror_mode": {
    "name": "ipython",
    "version": 3
   },
   "file_extension": ".py",
   "mimetype": "text/x-python",
   "name": "python",
   "nbconvert_exporter": "python",
   "pygments_lexer": "ipython3",
   "version": "3.10.14"
  }
 },
 "nbformat": 4,
 "nbformat_minor": 2
}
