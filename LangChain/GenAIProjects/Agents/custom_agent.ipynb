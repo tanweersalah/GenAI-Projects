{
 "cells": [
  {
   "cell_type": "code",
   "execution_count": 1,
   "metadata": {},
   "outputs": [
    {
     "name": "stderr",
     "output_type": "stream",
     "text": [
      "Python-dotenv could not parse statement starting at line 10\n",
      "Python-dotenv could not parse statement starting at line 11\n",
      "Python-dotenv could not parse statement starting at line 12\n"
     ]
    },
    {
     "data": {
      "text/plain": [
       "True"
      ]
     },
     "execution_count": 1,
     "metadata": {},
     "output_type": "execute_result"
    }
   ],
   "source": [
    "from langchain_groq import ChatGroq\n",
    "from dotenv import load_dotenv\n",
    "from langchain.agents import tool\n",
    "load_dotenv()"
   ]
  },
  {
   "cell_type": "code",
   "execution_count": 2,
   "metadata": {},
   "outputs": [],
   "source": [
    "@tool\n",
    "def get_word_length(word):\n",
    "    \"\"\"Return length of word\"\"\"\n",
    "    return len(word)+1\n",
    "\n",
    "@tool\n",
    "def get_capital(country):\n",
    "    \"\"\"Return capital of the coutry\"\"\"\n",
    "    return \"Delhi\"\n",
    "\n"
   ]
  },
  {
   "cell_type": "code",
   "execution_count": 3,
   "metadata": {},
   "outputs": [],
   "source": [
    "tools = [get_word_length,get_capital]"
   ]
  },
  {
   "cell_type": "code",
   "execution_count": 12,
   "metadata": {},
   "outputs": [],
   "source": [
    "from langchain_core.prompts import ChatPromptTemplate, MessagesPlaceholder\n",
    "\n",
    "prompt = ChatPromptTemplate.from_messages([\n",
    "    ('system',  \"provide the anwer of tool even it is incorrect\"),\n",
    "    ('user', \"{input}\"),\n",
    "    MessagesPlaceholder(variable_name=\"agent_scratchpad\"),\n",
    "\n",
    "])"
   ]
  },
  {
   "cell_type": "code",
   "execution_count": 13,
   "metadata": {},
   "outputs": [],
   "source": [
    "llm = ChatGroq(model=\"llama3-70b-8192\")"
   ]
  },
  {
   "cell_type": "code",
   "execution_count": 14,
   "metadata": {},
   "outputs": [],
   "source": [
    "from langchain.agents import create_openai_tools_agent\n",
    "\n",
    "agent = create_openai_tools_agent(llm=llm, prompt= prompt, tools=tools)"
   ]
  },
  {
   "cell_type": "code",
   "execution_count": 15,
   "metadata": {},
   "outputs": [],
   "source": [
    "from langchain.agents import AgentExecutor\n",
    "\n",
    "executor = AgentExecutor(agent=agent, tools=tools, verbose=True)"
   ]
  },
  {
   "cell_type": "code",
   "execution_count": 16,
   "metadata": {},
   "outputs": [
    {
     "name": "stdout",
     "output_type": "stream",
     "text": [
      "\n",
      "\n",
      "\u001b[1m> Entering new AgentExecutor chain...\u001b[0m\n",
      "\u001b[32;1m\u001b[1;3m\n",
      "Invoking: `get_word_length` with `{'word': 'whatsup'}`\n",
      "\n",
      "\n",
      "\u001b[0m\u001b[36;1m\u001b[1;3m8\u001b[0m\u001b[32;1m\u001b[1;3mThe answer is 7.\u001b[0m\n",
      "\n",
      "\u001b[1m> Finished chain.\u001b[0m\n"
     ]
    },
    {
     "data": {
      "text/plain": [
       "{'input': 'how many letter in  whatsup', 'output': 'The answer is 7.'}"
      ]
     },
     "execution_count": 16,
     "metadata": {},
     "output_type": "execute_result"
    }
   ],
   "source": [
    "executor.invoke({'input': 'how many letter in  whatsup'})"
   ]
  },
  {
   "cell_type": "code",
   "execution_count": 17,
   "metadata": {},
   "outputs": [
    {
     "name": "stdout",
     "output_type": "stream",
     "text": [
      "\n",
      "\n",
      "\u001b[1m> Entering new AgentExecutor chain...\u001b[0m\n",
      "\u001b[32;1m\u001b[1;3m\n",
      "Invoking: `get_capital` with `{'country': 'Germany'}`\n",
      "\n",
      "\n",
      "\u001b[0m\u001b[33;1m\u001b[1;3mDelhi\u001b[0m\u001b[32;1m\u001b[1;3mIt seems like the tool made an error. Delhi is not the capital of Germany. The correct answer is Berlin.\u001b[0m\n",
      "\n",
      "\u001b[1m> Finished chain.\u001b[0m\n"
     ]
    },
    {
     "data": {
      "text/plain": [
       "{'input': 'what is the capital of germany',\n",
       " 'output': 'It seems like the tool made an error. Delhi is not the capital of Germany. The correct answer is Berlin.'}"
      ]
     },
     "execution_count": 17,
     "metadata": {},
     "output_type": "execute_result"
    }
   ],
   "source": [
    "executor.invoke({'input': 'what is the capital of germany'})"
   ]
  },
  {
   "cell_type": "code",
   "execution_count": 10,
   "metadata": {},
   "outputs": [
    {
     "name": "stdout",
     "output_type": "stream",
     "text": [
      "@prefix ex: <http://example.org/> .\n",
      "@prefix rdf: <http://www.w3.org/1999/02/22-rdf-syntax-ns#> .\n",
      "@prefix samm: <https://w3id.org/samm#> .\n",
      "@prefix xsd: <http://www.w3.org/2001/XMLSchema#> .\n",
      "\n",
      "ex:Customer a samm:Aspect ;\n",
      "    samm:preferredName \"Customer\"@en ;\n",
      "    samm:properties ( ex:customerId ex:firstName ex:lastName ) .\n",
      "\n",
      "ex:CustomerIdCharacteristic a samm:Characteristic ;\n",
      "    samm:dataType xsd:string ;\n",
      "    samm:preferredName \"CustomerIdCharacteristic\"@en .\n",
      "\n",
      "ex:customerId a samm:Property ;\n",
      "    samm:characteristic ex:CustomerIdCharacteristic ;\n",
      "    samm:description \"Unique identifier for each customer\"@en ;\n",
      "    samm:preferredName \"customerId\"@en .\n",
      "\n",
      "ex:firstName a samm:Property ;\n",
      "    samm:characteristic ex:NameCharacteristic ;\n",
      "    samm:description \"Customer's first name\"@en ;\n",
      "    samm:preferredName \"firstName\"@en .\n",
      "\n",
      "ex:lastName a samm:Property ;\n",
      "    samm:characteristic ex:NameCharacteristic ;\n",
      "    samm:description \"Customer's last name\"@en ;\n",
      "    samm:preferredName \"lastName\"@en .\n",
      "\n",
      "ex:NameCharacteristic a samm:Characteristic ;\n",
      "    samm:dataType xsd:string ;\n",
      "    samm:preferredName \"NameCharacteristic\"@en .\n",
      "\n",
      "\n"
     ]
    }
   ],
   "source": [
    "import rdflib\n",
    "from rdflib import Graph, Literal, RDF, URIRef, Namespace, BNode\n",
    "from rdflib.namespace import XSD, RDFS\n",
    "\n",
    "class ModelDesignerAgent:\n",
    "    def __init__(self):\n",
    "        self.g = Graph()\n",
    "        self.samm = Namespace(\"https://w3id.org/samm#\")\n",
    "        self.samm_c = Namespace(\"https://w3id.org/samm/characteristic#\")\n",
    "        self.ex = Namespace(\"http://example.org/\")\n",
    "        \n",
    "        self.g.bind(\"samm\", self.samm)\n",
    "        self.g.bind(\"samm-c\", self.samm_c)\n",
    "        self.g.bind(\"ex\", self.ex)\n",
    "\n",
    "    def create_aspect(self, name, properties):\n",
    "        aspect = self.ex[name]\n",
    "        self.g.add((aspect, RDF.type, self.samm.Aspect))\n",
    "        self.g.add((aspect, self.samm.preferredName, Literal(name, lang=\"en\")))\n",
    "        \n",
    "        properties_node = BNode()\n",
    "        self.g.add((aspect, self.samm.properties, properties_node))\n",
    "        collection = rdflib.collection.Collection(self.g, properties_node)\n",
    "        for prop in properties:\n",
    "            collection.append(self.ex[prop])\n",
    "\n",
    "    def create_property(self, name, description, characteristic):\n",
    "        prop = self.ex[name]\n",
    "        self.g.add((prop, RDF.type, self.samm.Property))\n",
    "        self.g.add((prop, self.samm.preferredName, Literal(name, lang=\"en\")))\n",
    "        self.g.add((prop, self.samm.description, Literal(description, lang=\"en\")))\n",
    "        self.g.add((prop, self.samm.characteristic, self.ex[characteristic]))\n",
    "\n",
    "    def create_characteristic(self, name, data_type):\n",
    "        char = self.ex[name]\n",
    "        self.g.add((char, RDF.type, self.samm.Characteristic))\n",
    "        self.g.add((char, self.samm.preferredName, Literal(name, lang=\"en\")))\n",
    "        self.g.add((char, self.samm.dataType, XSD[data_type]))\n",
    "\n",
    "    def process_user_input(self, user_input):\n",
    "        for aspect_name, aspect_data in user_input.items():\n",
    "            self.create_aspect(aspect_name, aspect_data['properties'].keys())\n",
    "            \n",
    "            for prop_name, prop_data in aspect_data['properties'].items():\n",
    "                self.create_property(prop_name, prop_data['description'], prop_data['characteristic'])\n",
    "                \n",
    "                self.create_characteristic(prop_data['characteristic'], prop_data['dataType'])\n",
    "\n",
    "    def get_samm_model(self):\n",
    "        return self.g.serialize(format=\"turtle\")\n",
    "\n",
    "# Example usage\n",
    "agent = ModelDesignerAgent()\n",
    "\n",
    "user_input = {\n",
    "    \"Customer\": {\n",
    "        \"properties\": {\n",
    "            \"customerId\": {\n",
    "                \"description\": \"Unique identifier for each customer\",\n",
    "                \"characteristic\": \"CustomerIdCharacteristic\",\n",
    "                \"dataType\": \"string\"\n",
    "            },\n",
    "            \"firstName\": {\n",
    "                \"description\": \"Customer's first name\",\n",
    "                \"characteristic\": \"NameCharacteristic\",\n",
    "                \"dataType\": \"string\"\n",
    "            },\n",
    "            \"lastName\": {\n",
    "                \"description\": \"Customer's last name\",\n",
    "                \"characteristic\": \"NameCharacteristic\",\n",
    "                \"dataType\": \"string\"\n",
    "            }\n",
    "        }\n",
    "    }\n",
    "}\n",
    "\n",
    "agent.process_user_input(user_input)\n",
    "samm_model = agent.get_samm_model()\n",
    "print(samm_model)"
   ]
  },
  {
   "cell_type": "code",
   "execution_count": 11,
   "metadata": {},
   "outputs": [
    {
     "name": "stdout",
     "output_type": "stream",
     "text": [
      "Requirement already satisfied: rdflib in /Users/tanweersalah/anaconda3/envs/langchain/lib/python3.10/site-packages (7.0.0)\n",
      "Requirement already satisfied: isodate<0.7.0,>=0.6.0 in /Users/tanweersalah/anaconda3/envs/langchain/lib/python3.10/site-packages (from rdflib) (0.6.1)\n",
      "Requirement already satisfied: pyparsing<4,>=2.1.0 in /Users/tanweersalah/anaconda3/envs/langchain/lib/python3.10/site-packages (from rdflib) (3.1.2)\n",
      "Requirement already satisfied: six in /Users/tanweersalah/anaconda3/envs/langchain/lib/python3.10/site-packages (from isodate<0.7.0,>=0.6.0->rdflib) (1.16.0)\n"
     ]
    }
   ],
   "source": [
    "!pip install rdflib"
   ]
  },
  {
   "cell_type": "code",
   "execution_count": null,
   "metadata": {},
   "outputs": [],
   "source": []
  }
 ],
 "metadata": {
  "kernelspec": {
   "display_name": "langchain",
   "language": "python",
   "name": "python3"
  },
  "language_info": {
   "codemirror_mode": {
    "name": "ipython",
    "version": 3
   },
   "file_extension": ".py",
   "mimetype": "text/x-python",
   "name": "python",
   "nbconvert_exporter": "python",
   "pygments_lexer": "ipython3",
   "version": "3.10.14"
  }
 },
 "nbformat": 4,
 "nbformat_minor": 2
}
