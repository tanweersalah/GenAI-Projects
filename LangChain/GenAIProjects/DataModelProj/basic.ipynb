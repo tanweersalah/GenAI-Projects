{
 "cells": [
  {
   "cell_type": "code",
   "execution_count": 8,
   "metadata": {},
   "outputs": [
    {
     "name": "stderr",
     "output_type": "stream",
     "text": [
      "Python-dotenv could not parse statement starting at line 10\n",
      "Python-dotenv could not parse statement starting at line 11\n",
      "Python-dotenv could not parse statement starting at line 12\n"
     ]
    }
   ],
   "source": [
    "import os\n",
    "from dotenv import load_dotenv\n",
    "load_dotenv()\n",
    "\n",
    "os.environ['LANGCHAIN_TRACING_V2'] = \"true\"\n",
    "os.environ['LANGCHAIN_PROJECT'] = \"DataModelTest\""
   ]
  },
  {
   "cell_type": "code",
   "execution_count": 9,
   "metadata": {},
   "outputs": [],
   "source": [
    "from langchain_groq import ChatGroq\n",
    "\n",
    "model = ChatGroq()"
   ]
  },
  {
   "cell_type": "code",
   "execution_count": 10,
   "metadata": {},
   "outputs": [],
   "source": [
    "from langchain_core.messages import HumanMessage\n",
    "from langchain_community.chat_message_histories import ChatMessageHistory\n",
    "from langchain_core.chat_history import BaseChatMessageHistory\n",
    "from langchain_core.runnables.history import RunnableWithMessageHistory\n",
    "\n",
    "store = {}\n",
    "\n",
    "def get_session_history(session_id):\n",
    "    if session_id not in store :\n",
    "        store[session_id]= ChatMessageHistory()\n",
    "    return store[session_id]\n",
    "\n",
    "with_message_history = RunnableWithMessageHistory(model,get_session_history)"
   ]
  },
  {
   "cell_type": "code",
   "execution_count": 11,
   "metadata": {},
   "outputs": [],
   "source": [
    "config = {\"configurable\": {\"session_id\": \"chat1\"}}\n"
   ]
  },
  {
   "cell_type": "code",
   "execution_count": 12,
   "metadata": {},
   "outputs": [
    {
     "data": {
      "text/plain": [
       "AIMessage(content=\"Hello Tanweer! It's nice to meet you. Is there something specific you would like to talk about or ask me? I'm here to help with any questions you might have. Just let me know how I can assist you.\", response_metadata={'token_usage': {'completion_tokens': 51, 'prompt_tokens': 16, 'total_tokens': 67, 'completion_time': 0.080998487, 'prompt_time': 0.002219654, 'queue_time': None, 'total_time': 0.083218141}, 'model_name': 'mixtral-8x7b-32768', 'system_fingerprint': 'fp_c5f20b5bb1', 'finish_reason': 'stop', 'logprobs': None}, id='run-0df937a2-765f-46da-87c6-620eea2c5b7e-0', usage_metadata={'input_tokens': 16, 'output_tokens': 51, 'total_tokens': 67})"
      ]
     },
     "execution_count": 12,
     "metadata": {},
     "output_type": "execute_result"
    }
   ],
   "source": [
    "with_message_history.invoke([HumanMessage(\"Hi I am tanweer\")], config=config)"
   ]
  },
  {
   "cell_type": "code",
   "execution_count": 13,
   "metadata": {},
   "outputs": [
    {
     "data": {
      "text/plain": [
       "AIMessage(content='You mentioned earlier that your name is Tanweer. Is that not correct? I want to make sure I have the right information. If your name is actually something different, please let me know and I will be happy to update my records.', response_metadata={'token_usage': {'completion_tokens': 50, 'prompt_tokens': 80, 'total_tokens': 130, 'completion_time': 0.08058857, 'prompt_time': 0.006292383, 'queue_time': None, 'total_time': 0.086880953}, 'model_name': 'mixtral-8x7b-32768', 'system_fingerprint': 'fp_c5f20b5bb1', 'finish_reason': 'stop', 'logprobs': None}, id='run-63f7ccf4-3de2-4fdc-a5cd-4d4bafc2d7a3-0', usage_metadata={'input_tokens': 80, 'output_tokens': 50, 'total_tokens': 130})"
      ]
     },
     "execution_count": 13,
     "metadata": {},
     "output_type": "execute_result"
    }
   ],
   "source": [
    "with_message_history.invoke([HumanMessage(\"what is my name\")], config=config)"
   ]
  },
  {
   "cell_type": "code",
   "execution_count": 15,
   "metadata": {},
   "outputs": [
    {
     "data": {
      "text/plain": [
       "AIMessage(content='Here are the top level attributes of the JSON object you provided:\\n\\n* \"localIdentifiers\"\\n* \"manufacturingInformation\"\\n* \"catenaXId\"\\n* \"partTypeInformation\"\\n\\nThese are the four attributes that are directly contained in the JSON object. The \"localIdentifiers\" and \"manufacturingInformation\" attributes are both JSON objects, and the \"catenaXId\" attribute is a string. The \"partTypeInformation\" attribute is also a JSON object, and it contains the following attributes:\\n\\n* \"partClassification\"\\n* \"manufacturerPartId\"\\n* \"nameAtManufacturer\"\\n\\nThe \"partClassification\" attribute is an array of JSON objects, and it contains the following attributes:\\n\\n* \"classificationStandard\"\\n* \"classificationID\"\\n* \"classificationDescription\"\\n\\nLet me know if you have any other questions about this JSON object or if you would like me to do anything else with it. I\\'m here to help.', response_metadata={'token_usage': {'completion_tokens': 219, 'prompt_tokens': 605, 'total_tokens': 824, 'completion_time': 0.354049525, 'prompt_time': 0.027415616, 'queue_time': None, 'total_time': 0.38146514099999995}, 'model_name': 'mixtral-8x7b-32768', 'system_fingerprint': 'fp_c5f20b5bb1', 'finish_reason': 'stop', 'logprobs': None}, id='run-5c061f7c-8027-4185-ba82-17a16ae13e79-0', usage_metadata={'input_tokens': 605, 'output_tokens': 219, 'total_tokens': 824})"
      ]
     },
     "execution_count": 15,
     "metadata": {},
     "output_type": "execute_result"
    }
   ],
   "source": [
    "query = \"\"\"\n",
    "return all the top level attributes of this json : \n",
    "\n",
    "{\n",
    "  \"localIdentifiers\" : [ {\n",
    "    \"value\" : \"BID12345678\",\n",
    "    \"key\" : \"batchId\"\n",
    "  } ],\n",
    "  \"manufacturingInformation\" : {\n",
    "    \"date\" : \"2022-02-04T14:48:54\",\n",
    "    \"country\" : \"HUR\",\n",
    "    \"sites\" : [ {\n",
    "      \"catenaXsiteId\" : \"BPNS1234567890ZZ\",\n",
    "      \"function\" : \"production\"\n",
    "    } ]\n",
    "  },\n",
    "  \"catenaXId\" : \"580d3adf-1981-44a0-a214-13d6ceed9379\",\n",
    "  \"partTypeInformation\" : {\n",
    "    \"partClassification\" : [ {\n",
    "      \"classificationStandard\" : \"IEC\",\n",
    "      \"classificationID\" : \"61360- 2:2012 \",\n",
    "      \"classificationDescription\" : \"Standard data element types with associated classification scheme for electric components.\"\n",
    "    } ],\n",
    "    \"manufacturerPartId\" : \"123-0.740-3434-A\",\n",
    "    \"nameAtManufacturer\" : \"Mirror left\"\n",
    "  }\n",
    "}\n",
    "\n",
    "\"\"\"\n",
    "\n",
    "with_message_history.invoke([HumanMessage(query)], config=config)"
   ]
  },
  {
   "cell_type": "code",
   "execution_count": 20,
   "metadata": {},
   "outputs": [
    {
     "data": {
      "text/plain": [
       "AIMessage(content='Here are the root level simple attributes (i.e. attributes that are not JSON objects) in the JSON object you provided that do not have a child:\\n\\n* \"value\"\\n* \"key\"\\n* \"catenaXId\"\\n\\nThese are the attributes that are directly contained in the top level JSON object and are not themselves JSON objects.\\n\\nLet me know if you have any other questions. I\\'m here to help.\\n\\n(Note: I realized after sending my previous message that I misunderstood your request. I thought you were asking for attributes that do not have a parent, not a child. I apologize for the confusion. Here is the corrected list of attributes that do not have a child.\\n\\nAlso note: I am assuming that by \"root level simple attribute\" you mean an attribute that is not a JSON object and is contained in the top level JSON object. If you meant something else by \"root level simple attribute\", please let me know and I will be happy to clarify or update my answer.) \\n\\n(Also note: I am assuming that by \"simple attribute\" you mean an attribute that is not a JSON object. If you meant something else by \"simple attribute\", please let me know and I will be happy to clarify or update my answer.) \\n\\n(Note: I am repeating the information from my previous messages because I am not sure if you received them or not. I apologize if this is redundant.) \\n\\n(Also note: I am assuming that by \"root level\" you mean the top level of the JSON object. If you meant something else by \"root level\", please let me know and I will be happy to clarify or update my answer.)', response_metadata={'token_usage': {'completion_tokens': 365, 'prompt_tokens': 1764, 'total_tokens': 2129, 'completion_time': 0.591554116, 'prompt_time': 0.104827589, 'queue_time': None, 'total_time': 0.696381705}, 'model_name': 'mixtral-8x7b-32768', 'system_fingerprint': 'fp_c5f20b5bb1', 'finish_reason': 'stop', 'logprobs': None}, id='run-cad563a4-91e4-4111-b342-9c81e80254ca-0', usage_metadata={'input_tokens': 1764, 'output_tokens': 365, 'total_tokens': 2129})"
      ]
     },
     "execution_count": 20,
     "metadata": {},
     "output_type": "execute_result"
    }
   ],
   "source": [
    "with_message_history.invoke([HumanMessage(\"give me root level simple attribute, which has no child\")], config=config)"
   ]
  },
  {
   "cell_type": "code",
   "execution_count": null,
   "metadata": {},
   "outputs": [],
   "source": []
  }
 ],
 "metadata": {
  "kernelspec": {
   "display_name": "langchain",
   "language": "python",
   "name": "python3"
  },
  "language_info": {
   "codemirror_mode": {
    "name": "ipython",
    "version": 3
   },
   "file_extension": ".py",
   "mimetype": "text/x-python",
   "name": "python",
   "nbconvert_exporter": "python",
   "pygments_lexer": "ipython3",
   "version": "3.10.14"
  }
 },
 "nbformat": 4,
 "nbformat_minor": 2
}
