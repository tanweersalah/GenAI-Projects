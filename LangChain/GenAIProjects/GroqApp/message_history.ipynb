{
 "cells": [
  {
   "cell_type": "code",
   "execution_count": 1,
   "metadata": {},
   "outputs": [
    {
     "data": {
      "text/plain": [
       "True"
      ]
     },
     "execution_count": 1,
     "metadata": {},
     "output_type": "execute_result"
    }
   ],
   "source": [
    "import os\n",
    "from dotenv import load_dotenv\n",
    "load_dotenv()"
   ]
  },
  {
   "cell_type": "code",
   "execution_count": 3,
   "metadata": {},
   "outputs": [],
   "source": [
    "groq_api_key = os.getenv(\"GROQ_API_KEY\") \n",
    "os.environ['LANGCHAIN_API_KEY'] = os.getenv(\"LANGCHAIN_API_KEY\")\n",
    "os.environ['LANGCHAIN_PROJECT'] = os.getenv(\"LANGCHAIN_PROJECT\")\n",
    "os.environ['LANGCHAIN_TRACING_V2'] = \"true\""
   ]
  },
  {
   "cell_type": "code",
   "execution_count": 4,
   "metadata": {},
   "outputs": [],
   "source": [
    "from langchain_groq import ChatGroq\n",
    "\n",
    "model = ChatGroq()"
   ]
  },
  {
   "cell_type": "code",
   "execution_count": 5,
   "metadata": {},
   "outputs": [
    {
     "data": {
      "text/plain": [
       "AIMessage(content=\"Hello Tanweer, it's great to hear that you're learning about general artificial intelligence (Gen AI)! Artificial intelligence is a rapidly growing field that has the potential to transform many aspects of our lives, from healthcare and education to transportation and entertainment. I'm here to help you with any questions you may have about Gen AI or related topics.\\n\\nTo give you a brief overview of Gen AI, it refers to AI systems that have the ability to perform a wide range of tasks at a high level of proficiency. These systems are designed to be flexible and adaptable, so that they can learn from new data and experiences and improve their performance over time.\\n\\nSome examples of Gen AI applications include natural language processing (NLP), computer vision, robotics, and machine learning. NLP involves enabling AI systems to understand and generate human language, while computer vision involves enabling AI systems to interpret and analyze visual data. Robotics involves building AI systems that can physically interact with the world, while machine learning involves enabling AI systems to learn and improve from data.\\n\\nThere are many resources available for learning about Gen AI, including online courses, textbooks, and tutorials. Some popular online platforms for learning about AI include Coursera, edX, and Udacity, which offer courses on a variety of AI topics. Additionally, there are many open-source AI frameworks and libraries, such as TensorFlow and PyTorch, that can be used to build AI systems.\\n\\nIf you have any specific questions about Gen AI or related topics, feel free to ask! I'm here to help.\", response_metadata={'token_usage': {'completion_tokens': 335, 'prompt_tokens': 22, 'total_tokens': 357, 'completion_time': 0.5234375, 'prompt_time': 0.002367559, 'queue_time': None, 'total_time': 0.525805059}, 'model_name': 'mixtral-8x7b-32768', 'system_fingerprint': 'fp_c5f20b5bb1', 'finish_reason': 'stop', 'logprobs': None}, id='run-3a1e04d8-be00-41e0-a529-5a8ab4f288de-0', usage_metadata={'input_tokens': 22, 'output_tokens': 335, 'total_tokens': 357})"
      ]
     },
     "execution_count": 5,
     "metadata": {},
     "output_type": "execute_result"
    }
   ],
   "source": [
    "from langchain_core.messages import HumanMessage\n",
    "model.invoke([HumanMessage(\"Hi , I am tanweer , learnning gen ai\")])"
   ]
  },
  {
   "cell_type": "code",
   "execution_count": 7,
   "metadata": {},
   "outputs": [],
   "source": [
    "from langchain_community.chat_message_histories import ChatMessageHistory\n",
    "from langchain_core.chat_history import BaseChatMessageHistory\n",
    "from langchain_core.runnables.history import RunnableWithMessageHistory\n",
    "\n",
    "store = {}\n",
    "\n",
    "def get_session_history(session_id):\n",
    "    if session_id not in store :\n",
    "        store[session_id]= ChatMessageHistory()\n",
    "    return store[session_id]\n",
    "\n",
    "with_message_history = RunnableWithMessageHistory(model,get_session_history)\n",
    "    "
   ]
  },
  {
   "cell_type": "code",
   "execution_count": 8,
   "metadata": {},
   "outputs": [
    {
     "data": {
      "text/plain": [
       "AIMessage(content='Hello Tanweer, it\\'s nice to meet you! I\\'m here to help you with any questions you have about general AI. AI, or artificial intelligence, is a field of computer science that focuses on creating intelligent machines that can think and learn like humans. It\\'s a rapidly growing area of research and development, with many exciting applications in fields such as healthcare, finance, and transportation. Is there a specific topic within AI that you\\'re interested in learning more about? I\\'ll do my best to provide you with helpful and accurate information.\\n\\nHere are a few resources that you might find useful as you learn about general AI:\\n\\n* The book \"Artificial Intelligence: A Modern Approach\" by Stuart Russell and Peter Norvig is a comprehensive introduction to the field of AI. It covers a wide range of topics, including problem solving, knowledge representation, planning, learning, and natural language processing.\\n* The website of the Association for the Advancement of Artificial Intelligence (AAAI) is a great resource for staying up-to-date on the latest developments in AI. It features news, events, and publications related to AI, as well as information about the AAAI\\'s annual conference.\\n* The website of the Machine Intelligence Research Institute (MIRI) is a non-profit organization dedicated to promoting the safe and beneficial development of AI. It features a variety of resources on AI safety and alignment, including research papers, blog posts, and tutorials.\\n\\nI hope these resources are helpful to you as you learn about general AI. Let me know if you have any questions or if there\\'s anything specific you\\'d like to learn more about. I\\'m here to help!', response_metadata={'token_usage': {'completion_tokens': 358, 'prompt_tokens': 22, 'total_tokens': 380, 'completion_time': 0.559375, 'prompt_time': 0.002487857, 'queue_time': None, 'total_time': 0.5618628569999999}, 'model_name': 'mixtral-8x7b-32768', 'system_fingerprint': 'fp_c5f20b5bb1', 'finish_reason': 'stop', 'logprobs': None}, id='run-fe2ec7f7-b1d8-4c06-be71-3dadd1ceaccc-0', usage_metadata={'input_tokens': 22, 'output_tokens': 358, 'total_tokens': 380})"
      ]
     },
     "execution_count": 8,
     "metadata": {},
     "output_type": "execute_result"
    }
   ],
   "source": [
    "config = {\"configurable\": {\"session_id\": \"chat1\"}}\n",
    "\n",
    "with_message_history.invoke([HumanMessage(\"Hi , I am tanweer , learnning gen ai\")], config=config)"
   ]
  },
  {
   "cell_type": "code",
   "execution_count": 9,
   "metadata": {},
   "outputs": [
    {
     "data": {
      "text/plain": [
       "AIMessage(content=\"You mentioned at the beginning of our conversation that your name is Tanweer. Is that correct? I want to make sure I'm using the right name to address you. If I've made a mistake, please let me know and I'll correct it. It's important to me to use the correct name and pronouns when addressing you, as it helps to create a respectful and inclusive conversation.\", response_metadata={'token_usage': {'completion_tokens': 87, 'prompt_tokens': 393, 'total_tokens': 480, 'completion_time': 0.1359375, 'prompt_time': 0.109071215, 'queue_time': None, 'total_time': 0.245008715}, 'model_name': 'mixtral-8x7b-32768', 'system_fingerprint': 'fp_c5f20b5bb1', 'finish_reason': 'stop', 'logprobs': None}, id='run-9a27b50c-4047-4f65-84d1-544741efe2bd-0', usage_metadata={'input_tokens': 393, 'output_tokens': 87, 'total_tokens': 480})"
      ]
     },
     "execution_count": 9,
     "metadata": {},
     "output_type": "execute_result"
    }
   ],
   "source": [
    "with_message_history.invoke([HumanMessage(\"what is my name\")], config=config)"
   ]
  },
  {
   "cell_type": "code",
   "execution_count": 10,
   "metadata": {},
   "outputs": [
    {
     "data": {
      "text/plain": [
       "{'chat1': InMemoryChatMessageHistory(messages=[HumanMessage(content='Hi , I am tanweer , learnning gen ai'), AIMessage(content='Hello Tanweer, it\\'s nice to meet you! I\\'m here to help you with any questions you have about general AI. AI, or artificial intelligence, is a field of computer science that focuses on creating intelligent machines that can think and learn like humans. It\\'s a rapidly growing area of research and development, with many exciting applications in fields such as healthcare, finance, and transportation. Is there a specific topic within AI that you\\'re interested in learning more about? I\\'ll do my best to provide you with helpful and accurate information.\\n\\nHere are a few resources that you might find useful as you learn about general AI:\\n\\n* The book \"Artificial Intelligence: A Modern Approach\" by Stuart Russell and Peter Norvig is a comprehensive introduction to the field of AI. It covers a wide range of topics, including problem solving, knowledge representation, planning, learning, and natural language processing.\\n* The website of the Association for the Advancement of Artificial Intelligence (AAAI) is a great resource for staying up-to-date on the latest developments in AI. It features news, events, and publications related to AI, as well as information about the AAAI\\'s annual conference.\\n* The website of the Machine Intelligence Research Institute (MIRI) is a non-profit organization dedicated to promoting the safe and beneficial development of AI. It features a variety of resources on AI safety and alignment, including research papers, blog posts, and tutorials.\\n\\nI hope these resources are helpful to you as you learn about general AI. Let me know if you have any questions or if there\\'s anything specific you\\'d like to learn more about. I\\'m here to help!', response_metadata={'token_usage': {'completion_tokens': 358, 'prompt_tokens': 22, 'total_tokens': 380, 'completion_time': 0.559375, 'prompt_time': 0.002487857, 'queue_time': None, 'total_time': 0.5618628569999999}, 'model_name': 'mixtral-8x7b-32768', 'system_fingerprint': 'fp_c5f20b5bb1', 'finish_reason': 'stop', 'logprobs': None}, id='run-fe2ec7f7-b1d8-4c06-be71-3dadd1ceaccc-0', usage_metadata={'input_tokens': 22, 'output_tokens': 358, 'total_tokens': 380}), HumanMessage(content='what is my name'), AIMessage(content=\"You mentioned at the beginning of our conversation that your name is Tanweer. Is that correct? I want to make sure I'm using the right name to address you. If I've made a mistake, please let me know and I'll correct it. It's important to me to use the correct name and pronouns when addressing you, as it helps to create a respectful and inclusive conversation.\", response_metadata={'token_usage': {'completion_tokens': 87, 'prompt_tokens': 393, 'total_tokens': 480, 'completion_time': 0.1359375, 'prompt_time': 0.109071215, 'queue_time': None, 'total_time': 0.245008715}, 'model_name': 'mixtral-8x7b-32768', 'system_fingerprint': 'fp_c5f20b5bb1', 'finish_reason': 'stop', 'logprobs': None}, id='run-9a27b50c-4047-4f65-84d1-544741efe2bd-0', usage_metadata={'input_tokens': 393, 'output_tokens': 87, 'total_tokens': 480})])}"
      ]
     },
     "execution_count": 10,
     "metadata": {},
     "output_type": "execute_result"
    }
   ],
   "source": [
    "store"
   ]
  },
  {
   "cell_type": "code",
   "execution_count": null,
   "metadata": {},
   "outputs": [],
   "source": []
  }
 ],
 "metadata": {
  "kernelspec": {
   "display_name": "langchain",
   "language": "python",
   "name": "python3"
  },
  "language_info": {
   "codemirror_mode": {
    "name": "ipython",
    "version": 3
   },
   "file_extension": ".py",
   "mimetype": "text/x-python",
   "name": "python",
   "nbconvert_exporter": "python",
   "pygments_lexer": "ipython3",
   "version": "3.10.14"
  }
 },
 "nbformat": 4,
 "nbformat_minor": 2
}
