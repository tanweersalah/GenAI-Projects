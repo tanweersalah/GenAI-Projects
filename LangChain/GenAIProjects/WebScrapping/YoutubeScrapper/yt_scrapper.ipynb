{
 "cells": [
  {
   "cell_type": "markdown",
   "metadata": {},
   "source": [
    "## Scrape all the youtube video links"
   ]
  },
  {
   "cell_type": "code",
   "execution_count": 1,
   "metadata": {},
   "outputs": [
    {
     "name": "stdout",
     "output_type": "stream",
     "text": [
      "Collecting scrapetube (from -r requirements.txt (line 1))\n",
      "  Downloading scrapetube-2.5.1-py3-none-any.whl.metadata (1.6 kB)\n",
      "Requirement already satisfied: requests in /Users/tanweersalah/anaconda3/envs/langchain/lib/python3.10/site-packages (from scrapetube->-r requirements.txt (line 1)) (2.32.3)\n",
      "Requirement already satisfied: typing-extensions in /Users/tanweersalah/anaconda3/envs/langchain/lib/python3.10/site-packages (from scrapetube->-r requirements.txt (line 1)) (4.12.2)\n",
      "Requirement already satisfied: charset-normalizer<4,>=2 in /Users/tanweersalah/anaconda3/envs/langchain/lib/python3.10/site-packages (from requests->scrapetube->-r requirements.txt (line 1)) (3.3.2)\n",
      "Requirement already satisfied: idna<4,>=2.5 in /Users/tanweersalah/anaconda3/envs/langchain/lib/python3.10/site-packages (from requests->scrapetube->-r requirements.txt (line 1)) (3.7)\n",
      "Requirement already satisfied: urllib3<3,>=1.21.1 in /Users/tanweersalah/anaconda3/envs/langchain/lib/python3.10/site-packages (from requests->scrapetube->-r requirements.txt (line 1)) (2.2.2)\n",
      "Requirement already satisfied: certifi>=2017.4.17 in /Users/tanweersalah/anaconda3/envs/langchain/lib/python3.10/site-packages (from requests->scrapetube->-r requirements.txt (line 1)) (2024.7.4)\n",
      "Downloading scrapetube-2.5.1-py3-none-any.whl (5.6 kB)\n",
      "Installing collected packages: scrapetube\n",
      "Successfully installed scrapetube-2.5.1\n"
     ]
    }
   ],
   "source": [
    "!pip install -r requirements.txt"
   ]
  },
  {
   "cell_type": "code",
   "execution_count": 19,
   "metadata": {},
   "outputs": [
    {
     "name": "stdout",
     "output_type": "stream",
     "text": [
      "K51okcDUvRo\n"
     ]
    }
   ],
   "source": [
    "import scrapetube\n",
    "\n",
    "videos = scrapetube.get_channel(\"UCWsdcrre0WbCWML_PnuzoAg\")\n",
    "\n",
    "\n",
    "for video in videos:\n",
    "    print(video['videoId'])\n",
    "    video_id = video['videoId']\n",
    "    break"
   ]
  },
  {
   "cell_type": "code",
   "execution_count": null,
   "metadata": {},
   "outputs": [],
   "source": []
  },
  {
   "cell_type": "code",
   "execution_count": 9,
   "metadata": {},
   "outputs": [],
   "source": [
    "from youtube_transcript_api import YouTubeTranscriptApi\n",
    "\n",
    "t = YouTubeTranscriptApi.get_transcript(\"K51okcDUvRo\")"
   ]
  },
  {
   "cell_type": "code",
   "execution_count": 27,
   "metadata": {},
   "outputs": [],
   "source": [
    "\n",
    "def get_script(video_id):\n",
    "    transcript = YouTubeTranscriptApi.get_transcript(video_id)\n",
    "\n",
    "    sentences = []\n",
    "    for i in transcript:\n",
    "        sentences.append(i['text'])\n",
    "    \n",
    "    return \" \".join(sentences)\n"
   ]
  },
  {
   "cell_type": "code",
   "execution_count": 18,
   "metadata": {},
   "outputs": [
    {
     "data": {
      "text/plain": [
       "\"the next question is are we allowed to deny the invitation of our relatives as it not accept invitation what kind of invitation make your question clear and not generic because now I have to explain it would take time if you said are we obliged to answer the invitation of a wedding this is a sh invitation or this is a invitation the answer would be if there is no har involved like remixing or listening to music or the likes yes you're obliged to obey and to answer but if someone says no they just want us to have dinner no you're not obliged imagine how many invitations I get to dinner every night unfortunately N I hope we're having dinner tonight so but imagine as a Sheikh she please come and have dinner with me come have lunch and I said I have to answer this I would be really any no this is not mandatory the invitation marriage or this is you have to answer unless there is a legitimate reason not to answer it and Allah Knows Best\""
      ]
     },
     "execution_count": 18,
     "metadata": {},
     "output_type": "execute_result"
    }
   ],
   "source": [
    "sentences"
   ]
  },
  {
   "cell_type": "code",
   "execution_count": 22,
   "metadata": {},
   "outputs": [],
   "source": [
    "\n",
    "\n",
    "def get_video_data(video_id):\n",
    "    transcript = YouTubeTranscriptApi.get_transcript(video_id)\n",
    "    sentences = get_sentences(transcript)\n",
    "\n",
    "    return video_id , sentences"
   ]
  },
  {
   "cell_type": "code",
   "execution_count": 23,
   "metadata": {},
   "outputs": [
    {
     "data": {
      "text/plain": [
       "('K51okcDUvRo',\n",
       " \"the next question is are we allowed to deny the invitation of our relatives as it not accept invitation what kind of invitation make your question clear and not generic because now I have to explain it would take time if you said are we obliged to answer the invitation of a wedding this is a sh invitation or this is a invitation the answer would be if there is no har involved like remixing or listening to music or the likes yes you're obliged to obey and to answer but if someone says no they just want us to have dinner no you're not obliged imagine how many invitations I get to dinner every night unfortunately N I hope we're having dinner tonight so but imagine as a Sheikh she please come and have dinner with me come have lunch and I said I have to answer this I would be really any no this is not mandatory the invitation marriage or this is you have to answer unless there is a legitimate reason not to answer it and Allah Knows Best\")"
      ]
     },
     "execution_count": 23,
     "metadata": {},
     "output_type": "execute_result"
    }
   ],
   "source": [
    "get_video_data(video_id)"
   ]
  },
  {
   "cell_type": "code",
   "execution_count": 29,
   "metadata": {},
   "outputs": [
    {
     "name": "stdout",
     "output_type": "stream",
     "text": [
      "Error for video : HvrDWlO77Uk\n",
      "Error for video : GkPH9Hjc4K8\n",
      "Error for video : d99_vEETe6M\n",
      "Error for video : LkUJrzHKu3M\n",
      "Error for video : c4ULDW_TnPs\n",
      "Error for video : eWhu-jE73Jk\n",
      "Error for video : 6clhEFxdW6E\n"
     ]
    }
   ],
   "source": [
    "import csv\n",
    "with open(\"asim.csv\", 'a') as f :\n",
    "    csv_writer = csv.writer(f, delimiter=',')\n",
    "    for index,video in enumerate(videos):\n",
    "        video_id = video['videoId']\n",
    "        try:\n",
    "            script = get_script(video_id)\n",
    "            csv_writer.writerow([video_id, script])\n",
    "            if index == 10:\n",
    "                break\n",
    "        except:\n",
    "            print(f\"Error for video : {video_id}\")"
   ]
  },
  {
   "cell_type": "code",
   "execution_count": null,
   "metadata": {},
   "outputs": [],
   "source": []
  }
 ],
 "metadata": {
  "kernelspec": {
   "display_name": "langchain",
   "language": "python",
   "name": "python3"
  },
  "language_info": {
   "codemirror_mode": {
    "name": "ipython",
    "version": 3
   },
   "file_extension": ".py",
   "mimetype": "text/x-python",
   "name": "python",
   "nbconvert_exporter": "python",
   "pygments_lexer": "ipython3",
   "version": "3.10.14"
  }
 },
 "nbformat": 4,
 "nbformat_minor": 2
}
