{
 "cells": [
  {
   "cell_type": "code",
   "execution_count": 1,
   "metadata": {},
   "outputs": [
    {
     "data": {
      "text/plain": [
       "True"
      ]
     },
     "execution_count": 1,
     "metadata": {},
     "output_type": "execute_result"
    }
   ],
   "source": [
    "import os\n",
    "from dotenv import load_dotenv\n",
    "load_dotenv()"
   ]
  },
  {
   "cell_type": "code",
   "execution_count": 20,
   "metadata": {},
   "outputs": [],
   "source": [
    "import validators\n",
    "from langchain_community.document_loaders import YoutubeLoader, UnstructuredURLLoader, WebBaseLoader\n",
    "\n",
    "headers = {\"User-Agent\": \"Mozilla/5.0 (Macintosh; Intel Mac OS X 10.14; rv:66.0) Gecko/20100101 Firefox/66.0\",\n",
    "               \"Accept\": \"text/html,application/xhtml+xml,application/xml;q=0.9,*/*;q=0.8\",\n",
    "               \"Accept-Language\": \"en-US,en;q=0.5\", \"Accept-Encoding\": \"gzip, deflate\", \"DNT\": \"1\",\n",
    "               \"Connection\": \"close\", \"Upgrade-Insecure-Requests\": \"1\"}\n",
    "\n",
    "\n",
    "def get_document(url):\n",
    "    if validators.url(url):\n",
    "        if 'youtube' in url or 'youtu.be' in url :\n",
    "            loader = YoutubeLoader.from_youtube_url(url)\n",
    "        else : \n",
    "            #loader = UnstructuredURLLoader(urls=[url], ssl_verify= False, headers = headers)\n",
    "            loader = WebBaseLoader(web_path=url)\n",
    "        return loader.load()\n",
    "    else :\n",
    "        \n",
    "\n",
    "        print('Invalid URL')\n"
   ]
  },
  {
   "cell_type": "code",
   "execution_count": 26,
   "metadata": {},
   "outputs": [],
   "source": [
    "youtube_doc=get_document(\"https://www.youtube.com/watch?v=rUUvo3lNPTA\")"
   ]
  },
  {
   "cell_type": "code",
   "execution_count": 21,
   "metadata": {},
   "outputs": [],
   "source": [
    "web_doc = get_document(\"https://www.vedantu.com/english/apj-abdul-kalam-speech\")"
   ]
  },
  {
   "cell_type": "code",
   "execution_count": 22,
   "metadata": {},
   "outputs": [],
   "source": [
    "from langchain_text_splitters import RecursiveCharacterTextSplitter\n",
    "\n",
    "def document_splitter(document , chunk_size = 1000, chunk_overlap = 200):\n",
    "    splitter = RecursiveCharacterTextSplitter(chunk_size = chunk_size, chunk_overlap = chunk_overlap)\n",
    "    return splitter.split_documents(document)"
   ]
  },
  {
   "cell_type": "code",
   "execution_count": 23,
   "metadata": {},
   "outputs": [],
   "source": [
    "documents = document_splitter(web_doc)"
   ]
  },
  {
   "cell_type": "code",
   "execution_count": 24,
   "metadata": {},
   "outputs": [],
   "source": [
    "from langchain_groq import ChatGroq\n",
    "groq_api = os.getenv(\"GROQ_API_KEY\")\n",
    "llm = ChatGroq(groq_api_key=groq_api, model=\"Gemma-7b-It\")"
   ]
  },
  {
   "cell_type": "code",
   "execution_count": 27,
   "metadata": {},
   "outputs": [
    {
     "data": {
      "text/plain": [
       "'**Metrol Large 2: New Large Language Model from Metrol**\\n\\nMetrol has released their new large language model, Metrol Large 2, boasting 123 billion parameters. It claims to outperform GPT 4, Claude 3.5 Sonet, and other leading models.\\n\\n**Features:**\\n\\n- 128k context window\\n- Support for dozens of languages and 80+ coding languages\\n- Ability to acknowledge limitations and provide \"no\" answers when insufficient information is available.\\n\\n**Benchmarks:**\\n\\n- Benchmark results are presented as a chart without exact numbers, leading to suspicion of data manipulation.\\n- Claimed performance figures for Claude 3.5 Sonet and GPT 40 appear inconsistent with published data.\\n\\n**Evaluation:**\\n\\n- The model performs reasonably well on language-related tasks like rhyme finding and code generation.\\n- However, it struggles with certain math questions and fails to generate coherent code for complex tasks.\\n\\n**Overall:**\\n\\nMetrol Large 2 shows potential but lacks the consistency and accuracy of established models. Its high price and questionable benchmarks make it less appealing than alternatives like DeepSeek.'"
      ]
     },
     "execution_count": 27,
     "metadata": {},
     "output_type": "execute_result"
    }
   ],
   "source": [
    "from langchain.chains.summarize import load_summarize_chain\n",
    "\n",
    "chain = load_summarize_chain(llm=llm, chain_type='refine')\n",
    "\n",
    "chain.run(youtube_doc)"
   ]
  },
  {
   "cell_type": "code",
   "execution_count": null,
   "metadata": {},
   "outputs": [],
   "source": []
  }
 ],
 "metadata": {
  "kernelspec": {
   "display_name": "langchain",
   "language": "python",
   "name": "python3"
  },
  "language_info": {
   "codemirror_mode": {
    "name": "ipython",
    "version": 3
   },
   "file_extension": ".py",
   "mimetype": "text/x-python",
   "name": "python",
   "nbconvert_exporter": "python",
   "pygments_lexer": "ipython3",
   "version": "3.10.14"
  }
 },
 "nbformat": 4,
 "nbformat_minor": 2
}
